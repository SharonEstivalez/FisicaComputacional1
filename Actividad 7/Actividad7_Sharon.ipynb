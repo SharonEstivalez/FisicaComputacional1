{
  "nbformat": 4,
  "nbformat_minor": 0,
  "metadata": {
    "colab": {
      "name": "Actividad7_Sharon.ipynb",
      "provenance": [],
      "authorship_tag": "ABX9TyNoIpVv/oX2Fti5DNl4vKA8",
      "include_colab_link": true
    },
    "kernelspec": {
      "name": "python3",
      "display_name": "Python 3"
    }
  },
  "cells": [
    {
      "cell_type": "markdown",
      "metadata": {
        "id": "view-in-github",
        "colab_type": "text"
      },
      "source": [
        "<a href=\"https://colab.research.google.com/github/SharonEstivalez/FisicaComputacional1/blob/master/Actividad%207/Actividad7_Sharon.ipynb\" target=\"_parent\"><img src=\"https://colab.research.google.com/assets/colab-badge.svg\" alt=\"Open In Colab\"/></a>"
      ]
    },
    {
      "cell_type": "markdown",
      "metadata": {
        "id": "s3yg3hnX39yV"
      },
      "source": [
        "# ***$$ACTIVIDAD  \\space 7$$***\n",
        "\n",
        "\n",
        "\n",
        "Pacheco Rodriguez Sharon Estivalez\n",
        "\n",
        " 01/ 03/ 21"
      ]
    },
    {
      "cell_type": "code",
      "metadata": {
        "id": "8-w-Yjy537vb"
      },
      "source": [
        "import numpy as np\n",
        "import scipy.linalg as la\n",
        "from numpy.linalg import matrix_power as mpow\n",
        "import pandas as pd\n",
        "\n",
        "import matplotlib.pyplot as plt\n",
        "%matplotlib inline"
      ],
      "execution_count": 39,
      "outputs": []
    },
    {
      "cell_type": "markdown",
      "metadata": {
        "id": "J-22HxQa4aRK"
      },
      "source": [
        "# **Ejercicio 1.** Defina las siguientes matrices.\n",
        "\n",
        "\\begin{equation*}\n",
        " A\n",
        " =\n",
        "  \\begin{bmatrix}\n",
        "   1 & 3 \\\\\n",
        "   -1 & 7\n",
        "   \\end{bmatrix}\n",
        "\\end{equation*}\n",
        "\n",
        "\\begin{equation*}\n",
        " B =\n",
        "  \\begin{bmatrix}\n",
        "   5 & 2 \\\\\n",
        "   1 & 2\n",
        "   \\end{bmatrix}\n",
        "\\end{equation*}\n",
        "\n",
        " y la matrix identidad \n",
        "\n",
        " \\begin{equation*}\n",
        " I = \n",
        "   \\begin{bmatrix}\n",
        "   1 & 0 \\\\\n",
        "   0 & 1\n",
        "   \\end{bmatrix}\n",
        "\\end{equation*}\n",
        "\n",
        "Calcule el resultado de $2*I+3*A+A@B$.\n",
        "\n",
        "Para definir la matriz identidad, se puede utilizar la función *np.eye(2, dtype=int)*. Ver manual de  [np.eye()](https://numpy.org/doc/stable/reference/generated/numpy.eye.html).\n"
      ]
    },
    {
      "cell_type": "code",
      "metadata": {
        "colab": {
          "base_uri": "https://localhost:8080/"
        },
        "id": "Wb7VCLuX4FPj",
        "outputId": "1fcbd010-d261-4e35-d5e3-4101e92964cf"
      },
      "source": [
        "#Matriz A\n",
        "A = np.array([[1,3],[-1,7]])\n",
        "print(A)\n",
        "\n",
        "#Matriz B\n",
        "B = np.array([[5,2],[1,2]])\n",
        "print(B)\n",
        "\n",
        "#Matriz Identidad\n",
        "I = np.eye(2, dtype=int)\n",
        "print(I)"
      ],
      "execution_count": null,
      "outputs": [
        {
          "output_type": "stream",
          "text": [
            "[[ 1  3]\n",
            " [-1  7]]\n",
            "[[5 2]\n",
            " [1 2]]\n",
            "[[1 0]\n",
            " [0 1]]\n"
          ],
          "name": "stdout"
        }
      ]
    },
    {
      "cell_type": "code",
      "metadata": {
        "colab": {
          "base_uri": "https://localhost:8080/"
        },
        "id": "0YK6ACqQ5SNq",
        "outputId": "bab4c8aa-1c08-4a0a-cf01-c4287ae428a2"
      },
      "source": [
        "Resultado = 2*I + 3*A + A@B\n",
        "print(Resultado)"
      ],
      "execution_count": null,
      "outputs": [
        {
          "output_type": "stream",
          "text": [
            "[[13 17]\n",
            " [-1 35]]\n"
          ],
          "name": "stdout"
        }
      ]
    },
    {
      "cell_type": "markdown",
      "metadata": {
        "id": "A_XuDJNM62zE"
      },
      "source": [
        "# **Ejercicio 2**. Los polinomios característicos y el Teorema de Cayley-Hamilton.\n",
        "\n",
        "El polinomio característico de una matriz M esta dado en general por la ecuación \n",
        "\\begin{equation}\n",
        "\\det(M - \\lambda I) = 0\n",
        "\\end{equation}\n",
        "Para una matriz cuadrada M (2x2), el polinomio característico se puede escribir como\n",
        "\\begin{equation}\n",
        "P_2 (\\lambda) = \\det{(M)} - \\mathrm{tr \\,}(M) \\, \\lambda + \\lambda^2   \n",
        "\\end{equation}\n",
        "y para una matriz cuadrada M (3x3), el polinomio característico resulta ser\n",
        "\n",
        "\\begin{equation}\n",
        "P_3 (\\lambda) = \\frac{1}{6} \n",
        "[ \\mathrm{tr}^3 (M) + 2 \\, \\mathrm{tr }(M^3) - 3 \\, \\mathrm{tr}(M) \\mathrm{tr}(M^2) ] - \n",
        "\\frac{1}{2} [ \\mathrm{tr}^2 (M) - \\mathrm{tr}(M^2) ] \\lambda + \\mathrm{tr}(M) \\lambda^2 - \\lambda^3\n",
        "\\end{equation}\n",
        "\n",
        "[El Teorema de Cayley-Hamilton](https://en.wikipedia.org/wiki/Cayley–Hamilton_theorem) nos dice que una matriz cuadrada M (2x2), satisface el polinomio característico\n",
        "\\begin{equation}\n",
        "P_2(M) = \\det(M) - \\mathrm{tr}(M) M + M^2 \n",
        "\\end{equation}\n",
        "y en general cualquier matriz cuadrada M (nxn), satisface $P_n(M)$. \n",
        "\n",
        "Demuestre esto para cualquier matriz M (2x2),  ($\\det(M) \\neq 0$).\n"
      ]
    },
    {
      "cell_type": "markdown",
      "metadata": {
        "id": "LUDydvAe-Fh9"
      },
      "source": [
        "Trabajaremos con la matriz\n",
        "\\begin{equation*}\n",
        " M\n",
        " =\n",
        "  \\begin{bmatrix}\n",
        "   1 & 2 \\\\\n",
        "   3 & 4\n",
        "   \\end{bmatrix}\n",
        "\\end{equation*}"
      ]
    },
    {
      "cell_type": "code",
      "metadata": {
        "colab": {
          "base_uri": "https://localhost:8080/"
        },
        "id": "qf74JIA301fn",
        "outputId": "690c6ca6-ed21-4ca2-9e0b-32ac6cf32eba"
      },
      "source": [
        "#Matriz M\n",
        "M = np.array([[1,2],[3,4]])\n",
        "print(M)\n",
        "\n",
        "#determinante de M\n",
        "det_M = la.det(M)\n",
        "print(det_M)\n",
        "\n",
        "#Traza de M\n",
        "tr_M = np.trace(M)\n",
        "print(tr_M)\n",
        "\n",
        "#Demostración de polinomio característico mencionado anteriormente\n",
        "P2M = det_M*I - tr_M*M + mpow(M,2)\n",
        "print(P2M)"
      ],
      "execution_count": null,
      "outputs": [
        {
          "output_type": "stream",
          "text": [
            "[[1 2]\n",
            " [3 4]]\n",
            "-2.0\n",
            "5\n",
            "[[0. 0.]\n",
            " [0. 0.]]\n"
          ],
          "name": "stdout"
        }
      ]
    },
    {
      "cell_type": "markdown",
      "metadata": {
        "id": "f5mk7zBFApkQ"
      },
      "source": [
        "# **Ejercicio 3:**\n",
        "\n",
        "Resuelva el sistema de ecuaciones.\n",
        "\n",
        "\\begin{eqnarray*}\n",
        "x - 3 y + z & = & 1 \\\\ \\nonumber\n",
        "3 x - 4y + z & = & 5 \\\\ \\nonumber\n",
        "2 y - z & = & 0 \\\\ \\nonumber\n",
        "\\end{eqnarray*}\n",
        "\n",
        "de dos formas, utilizando el Método de Eliminación Gaussiana y la utilzando la función scipy.linalg.solve()"
      ]
    },
    {
      "cell_type": "code",
      "metadata": {
        "id": "krbqY5DMBAMb"
      },
      "source": [
        "# Implementación del método de eliminación Gaussiana\n",
        "# Definimos 3 funciones \n",
        "\n",
        "# Intercambio de posición de renglones.\n",
        "def switch_rows(A,i,j):\n",
        "    \"Intercambiar renglones i y j en la matriz A.\"\n",
        "    n = A.shape[0]\n",
        "    E = np.eye(n)\n",
        "    E[i,i] = 0\n",
        "    E[j,j] = 0\n",
        "    E[i,j] = 1\n",
        "    E[j,i] = 1\n",
        "    return E @ A\n",
        "\n",
        "# Multiplicar un renglón por una constante no nula.\n",
        "def scale_row(A,k,i):\n",
        "    \"Multiplicar el renglón i por k en la matriz A.\"\n",
        "    n = A.shape[0]\n",
        "    E = np.eye(n)\n",
        "    E[i,i] = k\n",
        "    return E @ A\n",
        "\n",
        "# Sumar un múltiplo de un reglon a otro renglón.\n",
        "def add_row(A,k,i,j):\n",
        "    \"Sumar k veces el renglón j al renglón i en la matriz A.\"\n",
        "    n = A.shape[0]\n",
        "    E = np.eye(n)\n",
        "    if i == j:\n",
        "        E[i,i] = k + 1\n",
        "    else:\n",
        "        E[i,j] = k\n",
        "    return E @ A\n",
        "\n",
        "\n"
      ],
      "execution_count": null,
      "outputs": []
    },
    {
      "cell_type": "code",
      "metadata": {
        "colab": {
          "base_uri": "https://localhost:8080/"
        },
        "id": "YlydiVflFfpl",
        "outputId": "01ec9bc3-1bb8-4ae6-8203-a87ed70a29b3"
      },
      "source": [
        "M = np.array([[1,-3,1],[3,-4,1],[0,2,-1]])\n",
        "print(M)\n",
        "print('det(M) = ', la.det(M))"
      ],
      "execution_count": null,
      "outputs": [
        {
          "output_type": "stream",
          "text": [
            "[[ 1 -3  1]\n",
            " [ 3 -4  1]\n",
            " [ 0  2 -1]]\n",
            "det(M) =  -1.0000000000000004\n"
          ],
          "name": "stdout"
        }
      ]
    },
    {
      "cell_type": "code",
      "metadata": {
        "colab": {
          "base_uri": "https://localhost:8080/"
        },
        "id": "uHq0t9RUI3iK",
        "outputId": "224cd0c1-7a5a-4b39-fe50-b880ed25ae57"
      },
      "source": [
        "# Matriz aumentada: Unimos la matriz M con la matriz Identidad \n",
        "A = np.hstack([M,np.eye(3)])\n",
        "print(A)"
      ],
      "execution_count": null,
      "outputs": [
        {
          "output_type": "stream",
          "text": [
            "[[ 1. -3.  1.  1.  0.  0.]\n",
            " [ 3. -4.  1.  0.  1.  0.]\n",
            " [ 0.  2. -1.  0.  0.  1.]]\n"
          ],
          "name": "stdout"
        }
      ]
    },
    {
      "cell_type": "code",
      "metadata": {
        "colab": {
          "base_uri": "https://localhost:8080/"
        },
        "id": "K0LSbnIsK0Yj",
        "outputId": "a1a6c5a7-460c-490e-efdc-c2d4d1eda902"
      },
      "source": [
        "# \"Sumar k veces el renglón j al renglón i en la matriz A.\"\n",
        "# add_row(A,k,i,j):\n",
        "# 1) L2 + -3L1 -> L2\n",
        "A1 = add_row(A,-3,1,0)\n",
        "print(A1)"
      ],
      "execution_count": null,
      "outputs": [
        {
          "output_type": "stream",
          "text": [
            "[[ 1. -3.  1.  1.  0.  0.]\n",
            " [ 0.  5. -2. -3.  1.  0.]\n",
            " [ 0.  2. -1.  0.  0.  1.]]\n"
          ],
          "name": "stdout"
        }
      ]
    },
    {
      "cell_type": "code",
      "metadata": {
        "colab": {
          "base_uri": "https://localhost:8080/"
        },
        "id": "pVIFHs7_MOfd",
        "outputId": "bd493082-43df-4f05-a248-ddae2d821f5b"
      },
      "source": [
        "# 2) 1/5 L2 -> L2\n",
        "A2 = scale_row(A1,1/5,1)\n",
        "print(A2)"
      ],
      "execution_count": null,
      "outputs": [
        {
          "output_type": "stream",
          "text": [
            "[[ 1.  -3.   1.   1.   0.   0. ]\n",
            " [ 0.   1.  -0.4 -0.6  0.2  0. ]\n",
            " [ 0.   2.  -1.   0.   0.   1. ]]\n"
          ],
          "name": "stdout"
        }
      ]
    },
    {
      "cell_type": "code",
      "metadata": {
        "colab": {
          "base_uri": "https://localhost:8080/"
        },
        "id": "tzPFsGQYN-An",
        "outputId": "b384aafc-c80a-4d55-f2cd-5fc6b523a9e7"
      },
      "source": [
        "# 3) L3 + -2L2 -> L3\n",
        "# \"Sumar k veces el renglón j al renglón i en la matriz A.\"\n",
        "# add_row(A,k,i,j):\n",
        "A3 = add_row(A2,-2,2,1)\n",
        "print(A3)"
      ],
      "execution_count": null,
      "outputs": [
        {
          "output_type": "stream",
          "text": [
            "[[ 1.  -3.   1.   1.   0.   0. ]\n",
            " [ 0.   1.  -0.4 -0.6  0.2  0. ]\n",
            " [ 0.   0.  -0.2  1.2 -0.4  1. ]]\n"
          ],
          "name": "stdout"
        }
      ]
    },
    {
      "cell_type": "code",
      "metadata": {
        "colab": {
          "base_uri": "https://localhost:8080/"
        },
        "id": "GQSa3Bq6PKvl",
        "outputId": "c58c85d5-4a94-4f7b-9fe4-2e2849e27875"
      },
      "source": [
        "# 4) L1 + 3L2 -> L1\n",
        "A4 = add_row(A3,3,0,1)\n",
        "print(A4)"
      ],
      "execution_count": null,
      "outputs": [
        {
          "output_type": "stream",
          "text": [
            "[[ 1.   0.  -0.2 -0.8  0.6  0. ]\n",
            " [ 0.   1.  -0.4 -0.6  0.2  0. ]\n",
            " [ 0.   0.  -0.2  1.2 -0.4  1. ]]\n"
          ],
          "name": "stdout"
        }
      ]
    },
    {
      "cell_type": "code",
      "metadata": {
        "colab": {
          "base_uri": "https://localhost:8080/"
        },
        "id": "wYqczBpeVRpi",
        "outputId": "6236cbf7-bcb2-4b04-fe76-11920172cd6c"
      },
      "source": [
        "# 5) 1/L3[3] -> L3\n",
        "A5 = scale_row(A4,1/(A4[2,2]),2)\n",
        "print(A5)"
      ],
      "execution_count": null,
      "outputs": [
        {
          "output_type": "stream",
          "text": [
            "[[ 1.   0.  -0.2 -0.8  0.6  0. ]\n",
            " [ 0.   1.  -0.4 -0.6  0.2  0. ]\n",
            " [ 0.   0.   1.  -6.   2.  -5. ]]\n"
          ],
          "name": "stdout"
        }
      ]
    },
    {
      "cell_type": "code",
      "metadata": {
        "colab": {
          "base_uri": "https://localhost:8080/"
        },
        "id": "K_fCuq8qWbfb",
        "outputId": "12c3cf0c-6808-4bcb-c87a-9ed73f8bf5b8"
      },
      "source": [
        "# 6) L2 + -(L2[3])/(L3[3]) -> L2\n",
        "A6 = add_row(A5,-1*(A5[1,2]/(A5[2,2])),1,2)\n",
        "print(A6)"
      ],
      "execution_count": null,
      "outputs": [
        {
          "output_type": "stream",
          "text": [
            "[[ 1.   0.  -0.2 -0.8  0.6  0. ]\n",
            " [ 0.   1.   0.  -3.   1.  -2. ]\n",
            " [ 0.   0.   1.  -6.   2.  -5. ]]\n"
          ],
          "name": "stdout"
        }
      ]
    },
    {
      "cell_type": "code",
      "metadata": {
        "colab": {
          "base_uri": "https://localhost:8080/"
        },
        "id": "U3o22vSSYY5e",
        "outputId": "b043cca6-1983-4349-fddb-a4228e055e79"
      },
      "source": [
        "# 7) L1 + -(L1[3])/(L3[3]) -> L1\n",
        "A7 = add_row(A6,-1*(A6[0,2]/(A6[2,2])),0,2)\n",
        "print(A7)"
      ],
      "execution_count": null,
      "outputs": [
        {
          "output_type": "stream",
          "text": [
            "[[ 1.  0.  0. -2.  1. -1.]\n",
            " [ 0.  1.  0. -3.  1. -2.]\n",
            " [ 0.  0.  1. -6.  2. -5.]]\n"
          ],
          "name": "stdout"
        }
      ]
    },
    {
      "cell_type": "code",
      "metadata": {
        "colab": {
          "base_uri": "https://localhost:8080/"
        },
        "id": "Q2ieo7ElZgtG",
        "outputId": "28407e50-16d6-4c39-bdd2-44b3730040d3"
      },
      "source": [
        "#Ya tenemos la inversa\n",
        "M_inv = A7[:,3:]\n",
        "print(M_inv)"
      ],
      "execution_count": null,
      "outputs": [
        {
          "output_type": "stream",
          "text": [
            "[[-2.  1. -1.]\n",
            " [-3.  1. -2.]\n",
            " [-6.  2. -5.]]\n"
          ],
          "name": "stdout"
        }
      ]
    },
    {
      "cell_type": "code",
      "metadata": {
        "colab": {
          "base_uri": "https://localhost:8080/"
        },
        "id": "N_evDxwNaAf_",
        "outputId": "474a36b6-45a7-4420-fcc3-47123226e2f7"
      },
      "source": [
        "#Comprobar que es la inversa\n",
        "la.inv(M)"
      ],
      "execution_count": null,
      "outputs": [
        {
          "output_type": "execute_result",
          "data": {
            "text/plain": [
              "array([[-2.,  1., -1.],\n",
              "       [-3.,  1., -2.],\n",
              "       [-6.,  2., -5.]])"
            ]
          },
          "metadata": {
            "tags": []
          },
          "execution_count": 16
        }
      ]
    },
    {
      "cell_type": "code",
      "metadata": {
        "colab": {
          "base_uri": "https://localhost:8080/"
        },
        "id": "UxYe8B4UaSIC",
        "outputId": "562d61ca-ff18-46ef-8775-2965c430b466"
      },
      "source": [
        "# definimos b. Recordemos que tenemos que usar la función .reshape()\n",
        "b = np.array([1,5,0]).reshape(3,1)\n",
        "print(b)"
      ],
      "execution_count": null,
      "outputs": [
        {
          "output_type": "stream",
          "text": [
            "[[1]\n",
            " [5]\n",
            " [0]]\n"
          ],
          "name": "stdout"
        }
      ]
    },
    {
      "cell_type": "code",
      "metadata": {
        "colab": {
          "base_uri": "https://localhost:8080/"
        },
        "id": "XLjgiz3BacMn",
        "outputId": "999e3129-2a4f-4e31-8933-1a5918673f80"
      },
      "source": [
        "# La solución es:\n",
        "x = M_inv @ b \n",
        "print(x) \n"
      ],
      "execution_count": null,
      "outputs": [
        {
          "output_type": "stream",
          "text": [
            "[[3.]\n",
            " [2.]\n",
            " [4.]]\n"
          ],
          "name": "stdout"
        }
      ]
    },
    {
      "cell_type": "markdown",
      "metadata": {
        "id": "YrG7KhqcaxyH"
      },
      "source": [
        "**Función scipy.linalg.solve()**"
      ]
    },
    {
      "cell_type": "code",
      "metadata": {
        "colab": {
          "base_uri": "https://localhost:8080/"
        },
        "id": "MWfZPAP9a1Wg",
        "outputId": "5c2c830b-658a-4a36-d263-2a7fc25def5f"
      },
      "source": [
        "# Resolviendo el sistema de ecuaciones usando scipy.linalg.solve\n",
        "x_sol = la.solve(M, b)\n",
        "print(x_sol)"
      ],
      "execution_count": null,
      "outputs": [
        {
          "output_type": "stream",
          "text": [
            "[[3.]\n",
            " [2.]\n",
            " [4.]]\n"
          ],
          "name": "stdout"
        }
      ]
    },
    {
      "cell_type": "markdown",
      "metadata": {
        "id": "TV-9r5y1bVRT"
      },
      "source": [
        "# **Ejercicio 4:** \n",
        "\n",
        "Dadas las siguientes matrices $B_1, B_2$ y $B_3$\n",
        "\n",
        "(Ejemplos del artículo de Wikipedia sobre [Eigenvalores y Eigenvectores](https://en.wikipedia.org/wiki/Eigenvalues_and_eigenvectors#Matrix_examples)) \n",
        "\n",
        "\n",
        "\\begin{equation*}\n",
        "B_1 = \\begin{bmatrix}\n",
        "2 & 0 & 0 \\\\\n",
        "0 & 3 & 4 \\\\\n",
        "0 & 4 & 9 \\\\\n",
        "\\end{bmatrix}\n",
        "\\end{equation*}\n",
        "\n",
        "\\begin{equation*}\n",
        "B_2 = \\begin{bmatrix}\n",
        "0 & 1 & 0 \\\\\n",
        "0 & 0 & 1 \\\\\n",
        "1 & 0 & 0 \\\\\n",
        "\\end{bmatrix}\n",
        "\\end{equation*}\n",
        "\n",
        "\\begin{equation*}\n",
        "B_3 = \\begin{bmatrix}\n",
        "2 & 0 & 0 & 0\\\\\n",
        "1 & 2 & 0 & 0 \\\\\n",
        "0 & 1 & 3 & 0 \\\\\n",
        "0 & 0 & 1 & 3 \\\\\n",
        "\\end{bmatrix}\n",
        "\\end{equation*}\n",
        "\n",
        "Encuentra los eigenvalores y eigenvectores de cada matriz utilizando la función de *scipy.linalg.eig()*, y contrasta tus resultados en cada caso con los que se desarrollan en los ejemplos de la Wikipedia. "
      ]
    },
    {
      "cell_type": "code",
      "metadata": {
        "id": "0e-EC8jhbXR7"
      },
      "source": [
        "B1 = np.array([[2,0,0],[0,3,4],[0,4,9]])\n",
        "B2 = np.array([[0,1,0],[0,0,1],[1,0,0]])\n",
        "B3 = np.array([[2,0,0,0],[1,2,0,0],[0,1,3,0],[0,0,1,3]])"
      ],
      "execution_count": null,
      "outputs": []
    },
    {
      "cell_type": "code",
      "metadata": {
        "colab": {
          "base_uri": "https://localhost:8080/"
        },
        "id": "jlhPmtUZyAD8",
        "outputId": "92a0be60-0b82-472b-f1bf-d49057ca85a5"
      },
      "source": [
        "# Aplicamos la biblioteca scipy.linalg.eig()\n",
        "\n",
        "eigvalsB1, eigvecsB1 = la.eig(B1)\n",
        "print(\"Para B1 son:\")\n",
        "print('Eigenvalores:', eigvalsB1)\n",
        "print('Eigenvectores:', eigvecsB1)\n",
        "print()\n",
        "\n",
        "eigvalsB2, eigvecsB2 = la.eig(B2)\n",
        "print(\"Para B2 son:\")\n",
        "print('Eigenvalores:', eigvalsB2)\n",
        "print('Eigenvectores:', eigvecsB2)\n",
        "print()\n",
        "\n",
        "eigvalsB3, eigvecsB3 = la.eig(B3)\n",
        "print(\"Para B3 son:\")\n",
        "print('Eigenvalores:', eigvalsB3)\n",
        "print('Eigenvectores:', eigvecsB3)"
      ],
      "execution_count": null,
      "outputs": [
        {
          "output_type": "stream",
          "text": [
            "Para B1 son:\n",
            "Eigenvalores: [11.+0.j  1.+0.j  2.+0.j]\n",
            "Eigenvectores: [[ 0.          0.          1.        ]\n",
            " [ 0.4472136   0.89442719  0.        ]\n",
            " [ 0.89442719 -0.4472136   0.        ]]\n",
            "\n",
            "Para B2 son:\n",
            "Eigenvalores: [-0.5+0.8660254j -0.5-0.8660254j  1. +0.j       ]\n",
            "Eigenvectores: [[ 0.57735027+0.j   0.57735027-0.j  -0.57735027+0.j ]\n",
            " [-0.28867513+0.5j -0.28867513-0.5j -0.57735027+0.j ]\n",
            " [-0.28867513-0.5j -0.28867513+0.5j -0.57735027+0.j ]]\n",
            "\n",
            "Para B3 son:\n",
            "Eigenvalores: [3.+0.j 3.+0.j 2.+0.j 2.+0.j]\n",
            "Eigenvectores: [[ 0.00000000e+00  0.00000000e+00  0.00000000e+00  2.56395025e-16]\n",
            " [ 0.00000000e+00  0.00000000e+00  5.77350269e-01 -5.77350269e-01]\n",
            " [ 0.00000000e+00  6.66133815e-16 -5.77350269e-01  5.77350269e-01]\n",
            " [ 1.00000000e+00 -1.00000000e+00  5.77350269e-01 -5.77350269e-01]]\n"
          ],
          "name": "stdout"
        }
      ]
    },
    {
      "cell_type": "markdown",
      "metadata": {
        "id": "9WFxCU0y0jK2"
      },
      "source": [
        "Son correctos ya que son proporcionales a los de la página."
      ]
    },
    {
      "cell_type": "markdown",
      "metadata": {
        "id": "ylay_l_k1Jo2"
      },
      "source": [
        "# **Ejercicio 5.**\n",
        "Se tienen los siguientes 8 puntos: \n",
        "\n",
        "\\begin{eqnarray*} \n",
        "(x&,&y) \\\\\n",
        "(0.0 &,& 0.0), \\\\ \n",
        "(0.5 &,& 0.47942), \\\\ \n",
        "(1.0 &,& 0.84147), \\\\\n",
        "(1.5 &,& 0.99749), \\\\\n",
        "(2.0 &,& 0.90930), \\\\\n",
        "(2.5 &,& 0.59847), \\\\\n",
        "(3.0 &,& 0.14112), \\\\\n",
        "(3.5 &,& -0.35078) \\\\\n",
        "\\end{eqnarray*}\n",
        "\n",
        "Encuentre un polinomio interpolante $p(x)$ que pase por los 8 puntos. \n",
        "\n",
        "Sobreponga la función $y=\\sin(x)$ y contrástela con el polinomio $p(x)$.\n",
        "\n"
      ]
    },
    {
      "cell_type": "code",
      "metadata": {
        "id": "Mi4Mc0W60nhC"
      },
      "source": [
        "x = ([0.0,0.5,1.0,1.5,2.0,2.5,3.0,3.5])\n",
        "#matriz de Vandermonde\n",
        "X = np.vander(x, increasing=True)\n",
        "\n",
        "#print(X)\n",
        "y = np.array([0.0,0.47942,0.84147,0.99749,0.90930,0.59847,0.14112,-0.35078]).reshape(8,1)\n",
        "\n",
        "#print(y)"
      ],
      "execution_count": null,
      "outputs": []
    },
    {
      "cell_type": "code",
      "metadata": {
        "colab": {
          "base_uri": "https://localhost:8080/"
        },
        "id": "A3zBJ34Z5gX8",
        "outputId": "ca094734-6b67-4b54-f4dd-ef9c302c2290"
      },
      "source": [
        "# Usamos la función de scipy.linalg.solve(), para encontrar los coeficientes\n",
        "# de la ecuación lineal Xa=y\n",
        "\n",
        "a = la.solve(X,y)\n",
        "print(a)"
      ],
      "execution_count": null,
      "outputs": [
        {
          "output_type": "stream",
          "text": [
            "[[ 0.00000000e+00]\n",
            " [ 1.00067181e+00]\n",
            " [-3.70788889e-03]\n",
            " [-1.58867889e-01]\n",
            " [-8.30222222e-03]\n",
            " [ 1.31964444e-02]\n",
            " [-1.54488889e-03]\n",
            " [ 2.46349206e-05]]\n"
          ],
          "name": "stdout"
        }
      ]
    },
    {
      "cell_type": "code",
      "metadata": {
        "colab": {
          "base_uri": "https://localhost:8080/",
          "height": 295
        },
        "id": "ftbJWOxS-XZL",
        "outputId": "54365daf-bae9-4009-837b-8aa0ced150c8"
      },
      "source": [
        "# Graficamos el polinomio interpolante y los puntos interpolados\n",
        "# Los puntos interpolados en rojo ('r.')\n",
        "xs = np.linspace(0,7,200)\n",
        "ys = sum([a[k]*xs**k for k in range(0,8)])\n",
        "Seno = np.sin(xs)\n",
        "plt.plot(x,y,'r.',xs,ys)\n",
        "plt.plot(xs,Seno,'pink')\n",
        "plt.grid()\n",
        "plt.title('Polinomio interpolante p(x)')\n",
        "plt.xlabel('x')\n",
        "plt.ylabel('y')\n",
        "plt.show()\n"
      ],
      "execution_count": null,
      "outputs": [
        {
          "output_type": "display_data",
          "data": {
            "image/png": "[encoded data removed]",
            "text/plain": [
              "<Figure size 432x288 with 1 Axes>"
            ]
          },
          "metadata": {
            "tags": [],
            "needs_background": "light"
          }
        }
      ]
    },
    {
      "cell_type": "markdown",
      "metadata": {
        "id": "YQY6IBnYCDid"
      },
      "source": [
        "# **Ejercicio 6.** \n",
        "Regrese a su modelo de análisis de series de tiempo. Haga una descomposición de su serie de tiempo de las temperaturas (Tmax y Tmin), y realice una regresión lineal sobre la serie de Tendencia de Temp $(T = a_0 + a_1 t)$. Encuentre si la pendiente es positiva o negativa de la tendencia (signo de $a_1$), es decir si las Temperaturas (Tmax, Tmin) están subiendo o bajando en el periodo analizado.\n",
        "\n",
        "**NOTA:** Pueden trabajar en sus Notebooks de la Actividad 5 o 6 y hacer el ajuste de regresión lineal allá donde tienen todo cargado en la memoria y luego copiar unas celdas de texto de esa Notebook y agregarlas al final de su Notebook de la Actividad 7. Así no tienen que cargar a la memoria todas las operaciones. \n"
      ]
    },
    {
      "cell_type": "code",
      "metadata": {
        "colab": {
          "base_uri": "https://localhost:8080/"
        },
        "id": "eyz02ueHArTD",
        "outputId": "11199d35-b384-445b-fdd1-c7c7aa79cc1b"
      },
      "source": [
        "#Tomar url en raw\n",
        "url = 'https://raw.githubusercontent.com/SharonEstivalez/FisicaComputacional1/master/Actividad%203/10090.txt'\n",
        "\n",
        "#Nombres para las columnas\n",
        "col =  ['Fecha', 'Precip', 'Evap', 'Tmax', 'Tmin'] \n",
        "\n",
        "# encoding='cp1251' Windows (Europa Occidental)\n",
        "# sep='\\s+' el separador de datos es de uno o más espacios\n",
        "#header=None no hay encabezado\n",
        "#skiprows=19 Se brincará los primeros 19 renglones \n",
        "#skipfooter=1 Se brincará el último renglón\n",
        "#engine='python' Se procesan los datos utilizando Python \n",
        "df_act = pd.read_csv(url, names=col, encoding='cp1251', sep='\\s+', header=None, skiprows=19, skipfooter=1, engine='python')\n",
        "\n",
        "#Hacer una copia del DataFrame\n",
        "df_sp0 = df_act.copy()\n",
        "\n",
        "#Reemplazar \"Nulo\" por espacio en blanco\n",
        "str_Nulo = 'Nulo'\n",
        "df_sp1 = df_sp0.replace(to_replace=str_Nulo, value='', regex=True)\n",
        "\n",
        "#Convertir las valores de Precip, Evap, Tmax y Tmin en flotantes\n",
        "cols_list = ['Precip', 'Evap', 'Tmax', 'Tmin']\n",
        "for cols in cols_list:\n",
        "  df_sp1[cols] = pd.to_numeric(df_sp1[cols], errors='coerce')\n",
        "\n",
        "#Hacer copia del DataFrame anterior para trabajar con ella\n",
        "\n",
        "df_sp2 = df_sp1.copy()\n",
        "\n",
        "#Tomar \"Fecha\" y convertirlo al formato fecha que entiende python\n",
        "df_sp2['Fecha'] = pd.to_datetime(df_sp2['Fecha'], dayfirst=True).copy()\n",
        "\n",
        "\n",
        "#Añadir dos columnas, año y fecha\n",
        "\n",
        "df_sp2['Año'] = df_sp2['Fecha'].dt.year\n",
        "df_sp2['Mes'] = df_sp2['Fecha'].dt.strftime('%b')\n",
        "\n",
        "\n",
        "#Nueva copia para este trabajo\n",
        "df_dm = df_sp2.copy()\n",
        "\n",
        "#df_dm.info()\n",
        "#print(df_dm.head())\n",
        "#print(df_dm.tail())\n",
        "\n",
        "\n",
        "#Copia del DataFrame \n",
        "df_dm_ts = df_dm.copy()\n",
        "\n",
        "#El índice será la variable 'Fecha'\n",
        "df_dm_ts = df_dm_ts.set_index('Fecha')\n",
        "\n",
        "#Para verificar\n",
        "df_dm_ts.info()\n",
        "#print(df_dm_ts.head())\n",
        "#print(df_dm_ts.tail())\n",
        "\n",
        "#Hacer períodos de 30 años aprox\n",
        "#1963-2018\n",
        "df_63 = df_dm_ts[(df_dm_ts['Año'] >= 1963) & (df_dm_ts['Año'] < 1990)]\n",
        "df_90 = df_dm_ts[(df_dm_ts['Año'] >= 1990) & (df_dm_ts['Año'] < 2018)]\n"
      ],
      "execution_count": 40,
      "outputs": [
        {
          "output_type": "stream",
          "text": [
            "<class 'pandas.core.frame.DataFrame'>\n",
            "DatetimeIndex: 19592 entries, 1963-08-01 to 2018-12-31\n",
            "Data columns (total 6 columns):\n",
            " #   Column  Non-Null Count  Dtype  \n",
            "---  ------  --------------  -----  \n",
            " 0   Precip  19558 non-null  float64\n",
            " 1   Evap    17688 non-null  float64\n",
            " 2   Tmax    19484 non-null  float64\n",
            " 3   Tmin    19487 non-null  float64\n",
            " 4   Año     19592 non-null  int64  \n",
            " 5   Mes     19592 non-null  object \n",
            "dtypes: float64(4), int64(1), object(1)\n",
            "memory usage: 1.0+ MB\n"
          ],
          "name": "stdout"
        }
      ]
    },
    {
      "cell_type": "code",
      "metadata": {
        "id": "pW8syea_KluN"
      },
      "source": [
        "from datetime import datetime as dt\n",
        "import time\n",
        "\n",
        "def toYearFraction(date):\n",
        "    def sinceEpoch(date): # returns seconds since epoch\n",
        "        return time.mktime(date.timetuple())\n",
        "    s = sinceEpoch\n",
        "\n",
        "    year = date.year\n",
        "    startOfThisYear = dt(year=year, month=1, day=1)\n",
        "    startOfNextYear = dt(year=year+1, month=1, day=1)\n",
        "\n",
        "    yearElapsed = s(date) - s(startOfThisYear)\n",
        "    yearDuration = s(startOfNextYear) - s(startOfThisYear)\n",
        "    fraction = yearElapsed/yearDuration\n",
        "\n",
        "    return date.year + fraction"
      ],
      "execution_count": 41,
      "outputs": []
    },
    {
      "cell_type": "code",
      "metadata": {
        "colab": {
          "base_uri": "https://localhost:8080/",
          "height": 204
        },
        "id": "tJsMv8LDUjM3",
        "outputId": "3275cf78-b0da-4f93-84bb-4366b78e17ac"
      },
      "source": [
        "df_dm.head()"
      ],
      "execution_count": 42,
      "outputs": [
        {
          "output_type": "execute_result",
          "data": {
            "text/html": [
              "<div>\n",
              "<style scoped>\n",
              "    .dataframe tbody tr th:only-of-type {\n",
              "        vertical-align: middle;\n",
              "    }\n",
              "\n",
              "    .dataframe tbody tr th {\n",
              "        vertical-align: top;\n",
              "    }\n",
              "\n",
              "    .dataframe thead th {\n",
              "        text-align: right;\n",
              "    }\n",
              "</style>\n",
              "<table border=\"1\" class=\"dataframe\">\n",
              "  <thead>\n",
              "    <tr style=\"text-align: right;\">\n",
              "      <th></th>\n",
              "      <th>Fecha</th>\n",
              "      <th>Precip</th>\n",
              "      <th>Evap</th>\n",
              "      <th>Tmax</th>\n",
              "      <th>Tmin</th>\n",
              "      <th>Año</th>\n",
              "      <th>Mes</th>\n",
              "    </tr>\n",
              "  </thead>\n",
              "  <tbody>\n",
              "    <tr>\n",
              "      <th>0</th>\n",
              "      <td>1963-08-01</td>\n",
              "      <td>0.0</td>\n",
              "      <td>3.6</td>\n",
              "      <td>28.0</td>\n",
              "      <td>10.0</td>\n",
              "      <td>1963</td>\n",
              "      <td>Aug</td>\n",
              "    </tr>\n",
              "    <tr>\n",
              "      <th>1</th>\n",
              "      <td>1963-08-02</td>\n",
              "      <td>0.0</td>\n",
              "      <td>4.8</td>\n",
              "      <td>21.0</td>\n",
              "      <td>11.0</td>\n",
              "      <td>1963</td>\n",
              "      <td>Aug</td>\n",
              "    </tr>\n",
              "    <tr>\n",
              "      <th>2</th>\n",
              "      <td>1963-08-03</td>\n",
              "      <td>0.0</td>\n",
              "      <td>4.5</td>\n",
              "      <td>25.0</td>\n",
              "      <td>10.0</td>\n",
              "      <td>1963</td>\n",
              "      <td>Aug</td>\n",
              "    </tr>\n",
              "    <tr>\n",
              "      <th>3</th>\n",
              "      <td>1963-08-04</td>\n",
              "      <td>0.0</td>\n",
              "      <td>4.0</td>\n",
              "      <td>18.0</td>\n",
              "      <td>11.0</td>\n",
              "      <td>1963</td>\n",
              "      <td>Aug</td>\n",
              "    </tr>\n",
              "    <tr>\n",
              "      <th>4</th>\n",
              "      <td>1963-08-05</td>\n",
              "      <td>9.0</td>\n",
              "      <td>2.5</td>\n",
              "      <td>24.5</td>\n",
              "      <td>12.0</td>\n",
              "      <td>1963</td>\n",
              "      <td>Aug</td>\n",
              "    </tr>\n",
              "  </tbody>\n",
              "</table>\n",
              "</div>"
            ],
            "text/plain": [
              "       Fecha  Precip  Evap  Tmax  Tmin   Año  Mes\n",
              "0 1963-08-01     0.0   3.6  28.0  10.0  1963  Aug\n",
              "1 1963-08-02     0.0   4.8  21.0  11.0  1963  Aug\n",
              "2 1963-08-03     0.0   4.5  25.0  10.0  1963  Aug\n",
              "3 1963-08-04     0.0   4.0  18.0  11.0  1963  Aug\n",
              "4 1963-08-05     9.0   2.5  24.5  12.0  1963  Aug"
            ]
          },
          "metadata": {
            "tags": []
          },
          "execution_count": 42
        }
      ]
    },
    {
      "cell_type": "code",
      "metadata": {
        "colab": {
          "base_uri": "https://localhost:8080/",
          "height": 204
        },
        "id": "Mkx9EHoEU4C8",
        "outputId": "db8480f7-d0d5-4ead-ec10-b0cfe8e01a6b"
      },
      "source": [
        "df_n = df_dm.copy()\n",
        "del(df_n['Precip'],df_n['Evap'],df_n['Año'],df_n['Mes'])\n",
        "df_n.head()"
      ],
      "execution_count": 43,
      "outputs": [
        {
          "output_type": "execute_result",
          "data": {
            "text/html": [
              "<div>\n",
              "<style scoped>\n",
              "    .dataframe tbody tr th:only-of-type {\n",
              "        vertical-align: middle;\n",
              "    }\n",
              "\n",
              "    .dataframe tbody tr th {\n",
              "        vertical-align: top;\n",
              "    }\n",
              "\n",
              "    .dataframe thead th {\n",
              "        text-align: right;\n",
              "    }\n",
              "</style>\n",
              "<table border=\"1\" class=\"dataframe\">\n",
              "  <thead>\n",
              "    <tr style=\"text-align: right;\">\n",
              "      <th></th>\n",
              "      <th>Fecha</th>\n",
              "      <th>Tmax</th>\n",
              "      <th>Tmin</th>\n",
              "    </tr>\n",
              "  </thead>\n",
              "  <tbody>\n",
              "    <tr>\n",
              "      <th>0</th>\n",
              "      <td>1963-08-01</td>\n",
              "      <td>28.0</td>\n",
              "      <td>10.0</td>\n",
              "    </tr>\n",
              "    <tr>\n",
              "      <th>1</th>\n",
              "      <td>1963-08-02</td>\n",
              "      <td>21.0</td>\n",
              "      <td>11.0</td>\n",
              "    </tr>\n",
              "    <tr>\n",
              "      <th>2</th>\n",
              "      <td>1963-08-03</td>\n",
              "      <td>25.0</td>\n",
              "      <td>10.0</td>\n",
              "    </tr>\n",
              "    <tr>\n",
              "      <th>3</th>\n",
              "      <td>1963-08-04</td>\n",
              "      <td>18.0</td>\n",
              "      <td>11.0</td>\n",
              "    </tr>\n",
              "    <tr>\n",
              "      <th>4</th>\n",
              "      <td>1963-08-05</td>\n",
              "      <td>24.5</td>\n",
              "      <td>12.0</td>\n",
              "    </tr>\n",
              "  </tbody>\n",
              "</table>\n",
              "</div>"
            ],
            "text/plain": [
              "       Fecha  Tmax  Tmin\n",
              "0 1963-08-01  28.0  10.0\n",
              "1 1963-08-02  21.0  11.0\n",
              "2 1963-08-03  25.0  10.0\n",
              "3 1963-08-04  18.0  11.0\n",
              "4 1963-08-05  24.5  12.0"
            ]
          },
          "metadata": {
            "tags": []
          },
          "execution_count": 43
        }
      ]
    },
    {
      "cell_type": "code",
      "metadata": {
        "colab": {
          "base_uri": "https://localhost:8080/"
        },
        "id": "A_VZliqgXBkz",
        "outputId": "c9ff532a-cddc-41c1-9581-ec7b7517b16c"
      },
      "source": [
        "N = len(df_n)\n",
        "df_n['FechaDecimal']=df_n['Tmax']\n",
        "\n",
        "for f in range(N): \n",
        "  \n",
        "  df_n['FechaDecimal'].iloc[f]=toYearFraction(df_n['Fecha'].iloc[f])\n",
        "\n",
        "del(df_n['Fecha']) \n",
        "\n",
        "print(df_n)"
      ],
      "execution_count": 44,
      "outputs": [
        {
          "output_type": "stream",
          "text": [
            "/usr/local/lib/python3.7/dist-packages/pandas/core/indexing.py:670: SettingWithCopyWarning: \n",
            "A value is trying to be set on a copy of a slice from a DataFrame\n",
            "\n",
            "See the caveats in the documentation: https://pandas.pydata.org/pandas-docs/stable/user_guide/indexing.html#returning-a-view-versus-a-copy\n",
            "  iloc._setitem_with_indexer(indexer, value)\n"
          ],
          "name": "stderr"
        },
        {
          "output_type": "stream",
          "text": [
            "       Tmax  Tmin  FechaDecimal\n",
            "0      28.0  10.0   1963.580822\n",
            "1      21.0  11.0   1963.583562\n",
            "2      25.0  10.0   1963.586301\n",
            "3      18.0  11.0   1963.589041\n",
            "4      24.5  12.0   1963.591781\n",
            "...     ...   ...           ...\n",
            "19587  22.0   2.0   2018.986301\n",
            "19588  22.0  -3.0   2018.989041\n",
            "19589  20.0   1.0   2018.991781\n",
            "19590  20.0  -1.0   2018.994521\n",
            "19591  22.0  -3.0   2018.997260\n",
            "\n",
            "[19592 rows x 3 columns]\n"
          ],
          "name": "stdout"
        }
      ]
    },
    {
      "cell_type": "code",
      "metadata": {
        "colab": {
          "base_uri": "https://localhost:8080/"
        },
        "id": "blNbcu5abCzS",
        "outputId": "2c028359-c107-40b5-9e6c-b2e62a72f610"
      },
      "source": [
        "x=df_n['FechaDecimal']\n",
        "X=np.column_stack([np.ones(N),x])\n",
        "print('Shape:', X.shape)"
      ],
      "execution_count": 45,
      "outputs": [
        {
          "output_type": "stream",
          "text": [
            "Shape: (19592, 2)\n"
          ],
          "name": "stdout"
        }
      ]
    },
    {
      "cell_type": "code",
      "metadata": {
        "id": "X7HTVsD5baSk"
      },
      "source": [
        "df_n.isnull().sum()\n",
        "df_n.fillna(df_n.mean(), inplace=True)\n",
        "ymax=np.array(df_n['Tmax'])\n",
        "ymin=np.array(df_n['Tmin'])"
      ],
      "execution_count": 48,
      "outputs": []
    },
    {
      "cell_type": "code",
      "metadata": {
        "colab": {
          "base_uri": "https://localhost:8080/"
        },
        "id": "Cc_lGvD_bz8H",
        "outputId": "02ac895a-eb3f-47c8-eb34-347e2ccd5631"
      },
      "source": [
        "amax = la.solve(X.T @ X, X.T @ ymax)\n",
        "amin = la.solve(X.T @ X, X.T @ ymin)\n",
        "print('Para Tmax')\n",
        "print(amax)\n",
        "print('Para Tmin')\n",
        "print(amin)"
      ],
      "execution_count": 49,
      "outputs": [
        {
          "output_type": "stream",
          "text": [
            "Para Tmax\n",
            "[ 5.04159870e+01 -1.27103481e-02]\n",
            "Para Tmin\n",
            "[-6.79599182e+01  3.76234466e-02]\n"
          ],
          "name": "stdout"
        }
      ]
    },
    {
      "cell_type": "markdown",
      "metadata": {
        "id": "Xd-_TYV1cnH1"
      },
      "source": [
        "Para la temperatura máxima\n",
        "$$ 50.4159870 - 0.0127103481 t $$\n",
        "\n",
        "Para la temperatura mínima\n",
        "$$-67.9599182  0.0376234466 t$$\n"
      ]
    }
  ]
}