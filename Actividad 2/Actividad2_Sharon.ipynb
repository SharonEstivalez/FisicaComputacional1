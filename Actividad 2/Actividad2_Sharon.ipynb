{
  "nbformat": 4,
  "nbformat_minor": 0,
  "metadata": {
    "colab": {
      "name": "Actividad2-Sharon.ipynb",
      "provenance": [],
      "collapsed_sections": []
    },
    "kernelspec": {
      "name": "python3",
      "display_name": "Python 3"
    }
  },
  "cells": [
    {
      "cell_type": "markdown",
      "metadata": {
        "id": "rEhfNB-mXeNj"
      },
      "source": [
        "# ***$$ACTIVIDAD  \\space 2$$***\r\n",
        "\r\n",
        "\r\n",
        "\r\n",
        "Pacheco Rodriguez Sharon Estivalez\r\n",
        "\r\n",
        " 23/ 01/ 21\r\n",
        " \r\n"
      ]
    },
    {
      "cell_type": "markdown",
      "metadata": {
        "id": "hiWiLRORK7Jt"
      },
      "source": [
        "# EJERCICIO 1\r\n",
        "\r\n",
        "---\r\n",
        "\r\n"
      ]
    },
    {
      "cell_type": "markdown",
      "metadata": {
        "id": "euit75lFI8nb"
      },
      "source": [
        "A continuación se presenta el código que sirvió de base para los posteriores. "
      ]
    },
    {
      "cell_type": "markdown",
      "metadata": {
        "id": "RhDgm-rEfj-S"
      },
      "source": [
        "**Ejemplo**"
      ]
    },
    {
      "cell_type": "code",
      "metadata": {
        "colab": {
          "base_uri": "https://localhost:8080/"
        },
        "id": "iG-Eif3jegsV",
        "outputId": "7f60b16d-de1e-4fdb-aa98-0b79915aa96b"
      },
      "source": [
        "# Se utiliza el símbolo # para hacer comentarios.\r\n",
        "# Se define una función de 2 variables para calcular el área.  \r\n",
        "def area(x, y):\r\n",
        "    return x*y\r\n",
        "\r\n",
        "print(\"Proporciona el largo y altura del rectángulo: \", end=\"\")\r\n",
        "l = float(input())\r\n",
        "w = float(input())\r\n",
        "a = area(l, w)\r\n",
        "# Imprime el valor del área en formato libre.\r\n",
        "print(\"\\nArea = \", a)\r\n",
        "# Imprime el valor del área con 2 decimales. \r\n",
        "print(\"\\nArea = {:.2f}\".format(a))"
      ],
      "execution_count": null,
      "outputs": [
        {
          "output_type": "stream",
          "text": [
            "Proporciona el largo y altura del rectángulo: 10\n",
            "5\n",
            "\n",
            "Area =  50.0\n",
            "\n",
            "Area = 50.00\n"
          ],
          "name": "stdout"
        }
      ]
    },
    {
      "cell_type": "markdown",
      "metadata": {
        "id": "UPdddWygfVKi"
      },
      "source": [
        "Usando este ejemplo, modifícalo para calcular:\r\n",
        "\r\n",
        "área de: un círculo y  una elipse.\r\n",
        "volumen de: una esfera y el de un cilindro circular.\r\n",
        "Antes de cada celda donde se calcule un área o volumen, inserte una descripción de lo que se hace, utilizando notación Latex para las ecuaciones o símbolos. "
      ]
    },
    {
      "cell_type": "markdown",
      "metadata": {
        "id": "jzP_5nkafvDy"
      },
      "source": [
        "***Aquí empieza la actividad***"
      ]
    },
    {
      "cell_type": "code",
      "metadata": {
        "id": "Bd_j3hhL_N3a"
      },
      "source": [
        "import numpy as np\r\n",
        "import matplotlib.pyplot as plt\r\n"
      ],
      "execution_count": 54,
      "outputs": []
    },
    {
      "cell_type": "markdown",
      "metadata": {
        "id": "xcKzrgOsKyH1"
      },
      "source": [
        "# ***Área de un círculo***\r\n",
        "\r\n",
        "En la siguiente celda se calcula el área de un círculo de radio $r$ con la fórmula:\r\n",
        "\r\n",
        "$$A= \\pi r^2$$"
      ]
    },
    {
      "cell_type": "code",
      "metadata": {
        "colab": {
          "base_uri": "https://localhost:8080/"
        },
        "id": "L7mkd58Pf7IV",
        "outputId": "c20233a7-ab60-4460-806c-3c50b5d67b13"
      },
      "source": [
        "#ÁREA DE UN CIRCULO\r\n",
        "\r\n",
        "print(\"Programa para calcular el área de un círculo\")\r\n",
        "def area(x):\r\n",
        "  return np.pi*x**2\r\n",
        "print(\"Ingresa el valor del radio del círculo:\", end=\"\")\r\n",
        "r = float(input())  #radio\r\n",
        "a = area(r)   #mandamos el valor r a x\r\n",
        "#Mostrar el valor del área en formato libre y con dos decimales\r\n",
        "print(\"\\nEl valor del área es=\", a)\r\n",
        "print(\"\\nEl valor del área es= {:.2f}\".format(a))\r\n",
        "\r\n"
      ],
      "execution_count": 3,
      "outputs": [
        {
          "output_type": "stream",
          "text": [
            "Programa para calcular el área de un círculo\n",
            "Ingresa el valor del radio del círculo:1\n",
            "\n",
            "El valor del área es= 3.141592653589793\n",
            "\n",
            "El valor del área es= 3.14\n"
          ],
          "name": "stdout"
        }
      ]
    },
    {
      "cell_type": "markdown",
      "metadata": {
        "id": "cdM5SBjrM-BX"
      },
      "source": [
        "# ***Área de una elipse***\r\n",
        "\r\n",
        "En la siguiente celda se calcula el área de una elipse con semieje mayor $a$ y semieje menor $b$ con la fórmula:\r\n",
        "\r\n",
        "$$A= \\pi ab$$"
      ]
    },
    {
      "cell_type": "code",
      "metadata": {
        "colab": {
          "base_uri": "https://localhost:8080/"
        },
        "id": "JfvfYchM_avw",
        "outputId": "f9d0cd93-055f-4c10-8410-1d53c08a2a35"
      },
      "source": [
        "#ÁREA DE UNA ELIPSE\r\n",
        "\r\n",
        "\r\n",
        "print(\"Programa para calcular el área de una elipse\")\r\n",
        "def area(x,y):\r\n",
        "  return np.pi*x*y\r\n",
        "print(\"Ingresa el valor del semieje mayor y del semieje menor de la elipse:\",end=\" \")\r\n",
        "a = float(input())\r\n",
        "b = float(input())\r\n",
        "ar = area(a,b)\r\n",
        "\r\n",
        "print(\"\\nEl valor del área es=\", ar)\r\n",
        "print(\"\\nEl valor del área es= {:.2f}\".format(ar))\r\n",
        "\r\n"
      ],
      "execution_count": 16,
      "outputs": [
        {
          "output_type": "stream",
          "text": [
            "Programa para calcular el área de una elipse\n",
            "Ingresa el valor del semieje mayor y del semieje menor de la elipse: 1\n",
            "2\n",
            "\n",
            "El valor del área es= 6.283185307179586\n",
            "\n",
            "El valor del área es= 6.28\n"
          ],
          "name": "stdout"
        }
      ]
    },
    {
      "cell_type": "markdown",
      "metadata": {
        "id": "0W0aItjGHv4v"
      },
      "source": [
        "# ***Volumen de una esfera***\r\n",
        "\r\n",
        "En la siguiente celda se calcula el volumen de una esfera de radio $r$ con la siguiente fórmula:\r\n",
        "\r\n",
        " $$V= \\frac{4}{3} \\pi r^3$$"
      ]
    },
    {
      "cell_type": "code",
      "metadata": {
        "colab": {
          "base_uri": "https://localhost:8080/"
        },
        "id": "Y71PJd48PJ4Z",
        "outputId": "76027839-3327-4582-cecf-8b355600a644"
      },
      "source": [
        "#VOLUMEN DE UNA ESFERA\r\n",
        "\r\n",
        "print(\"Programa para calcular el volumen de una esfera\")\r\n",
        "def vol(r):\r\n",
        "  return 4/3*np.pi*r**3\r\n",
        "print(\"Ingresa el valor del radio\")\r\n",
        "x = float(input())\r\n",
        "v= vol(x)\r\n",
        "\r\n",
        "print(\"\\nEl valor del volumen de la esfera es=\",v)\r\n",
        "print(\"\\nEl valor del volumen de la esfera es= {:.2f}\".format(v))\r\n"
      ],
      "execution_count": 17,
      "outputs": [
        {
          "output_type": "stream",
          "text": [
            "Programa para calcular el volumen de una esfera\n",
            "Ingresa el valor del radio\n",
            "1\n",
            "\n",
            "El valor del volumen de la esfera es= 4.1887902047863905\n",
            "\n",
            "El valor del volumen de la esfera es= 4.19\n"
          ],
          "name": "stdout"
        }
      ]
    },
    {
      "cell_type": "markdown",
      "metadata": {
        "id": "e-xHkZyfSY0d"
      },
      "source": [
        "# ***Volumen de un cilindro circular***\r\n",
        "\r\n",
        "En la siguiente celda se calcula el volumen de un cilindro circular de radio $r$ y altura $h$ con la siguiente fórmula:\r\n",
        "\r\n",
        " $$V= \\pi r^2 h$$"
      ]
    },
    {
      "cell_type": "code",
      "metadata": {
        "id": "TjCoqWFBuKKt"
      },
      "source": [
        "#VOLUMEN DE UN CILINDRO CIRCULAR\r\n",
        "\r\n",
        "print(\"Programa para calcular el volumen de un cilindro circular\")\r\n",
        "def vol(r,h):\r\n",
        "  return h*np.pi*r**2\r\n",
        "print(\"Ingresa el valor del radio y de la altura\")\r\n",
        "x = float(input())\r\n",
        "y = float(input())\r\n",
        "v= vol(x,y)\r\n",
        "\r\n",
        "print(\"\\nEl valor del volumen de un cilindro es=\",v)\r\n",
        "print(\"\\nEl valor del volumen de un cilindro es= {:.2f}\".format(v))\r\n"
      ],
      "execution_count": null,
      "outputs": []
    },
    {
      "cell_type": "markdown",
      "metadata": {
        "id": "kSwQiXCNxByY"
      },
      "source": [
        "# EJERCICIO 2\r\n",
        "\r\n",
        "\r\n",
        "---\r\n",
        "En la siguiente celda se calculan las raíces de una ecuación cuadrática con la fórmula general:\r\n",
        "$$x = \\frac{-b \\pm \\sqrt{b^2-4ac}}{2a}$$\r\n"
      ]
    },
    {
      "cell_type": "code",
      "metadata": {
        "colab": {
          "base_uri": "https://localhost:8080/"
        },
        "id": "hhMJpd0zx6A4",
        "outputId": "7e6e5b5a-40c7-430c-b6ef-f248c5d557cc"
      },
      "source": [
        "#ECUACIÓN CUADRÁTICA\r\n",
        "\r\n",
        "print(\"Programa para calcular las raíces de una ecuación cuadrática\")\r\n",
        "print(\"Introduce los valores de los coeficientes de la ecuación cuadrática de mayor a menor grado\")\r\n",
        "a = float(input())  #Coeficiente cuadrático\r\n",
        "b = float(input())  #Coeficiente lineal\r\n",
        "c = float(input())  #Constante\r\n",
        "\r\n",
        "d = b**2-4*a*c      #Discriminante\r\n",
        "\r\n",
        "### Condicional ###\r\n",
        "if d>0:\r\n",
        "  x1 = (-b+np.sqrt(d))/(2*a)  #Raíz 1\r\n",
        "  x2 = (-b-np.sqrt(d))/(2*a)  #Raíz 2\r\n",
        "  print(\"\\nLas raíces son: \", x1, \" y \", x2)\r\n",
        "\r\n",
        "\r\n",
        "elif d==0:\r\n",
        "  x1=-b/(2*a)\r\n",
        "  print(\"La raíz es: \", x1)\r\n",
        "\r\n",
        "\r\n",
        "else:\r\n",
        "  print(\"No hay raíces reales\") #Discrimante menor a 0\r\n",
        "\r\n"
      ],
      "execution_count": 24,
      "outputs": [
        {
          "output_type": "stream",
          "text": [
            "Programa para calcular las raíces de una ecuación cuadrática\n",
            "Introduce los valores de los coeficientes de la ecuación cuadrática de mayor a menor grado\n",
            "1\n",
            "4\n",
            "1\n",
            "\n",
            "Las raíces son:  -0.2679491924311228  y  -3.732050807568877\n"
          ],
          "name": "stdout"
        }
      ]
    },
    {
      "cell_type": "markdown",
      "metadata": {
        "id": "jqKvW6N5Hv1U"
      },
      "source": [
        "# EJERCICIO 3\r\n",
        "\r\n",
        "\r\n",
        "---\r\n",
        "\r\n",
        " Implementar el método Babilonio (o Método de Herón), para calcular la raíz cuadrada de un número S, cuando la sucesión converja con un error menor a 0.01. Compare con el valor obtenido por el método Babilonio con el valor de la función np.sqrt(S).\r\n",
        "\r\n",
        " $$x_{0} \\approx \\sqrt{s}$$\r\n",
        " $$x_{n+1} = \\frac{1}{2}(x_{n}+\\frac{s}{x_{n}})$$\r\n",
        " $$\\sqrt{s} = \\lim \\limits_{n\\to\\infty} x_{n}$$"
      ]
    },
    {
      "cell_type": "code",
      "metadata": {
        "colab": {
          "base_uri": "https://localhost:8080/"
        },
        "id": "YqxzDZ4JOtLz",
        "outputId": "d9505ba5-3400-4c64-cf41-880aec89e4eb"
      },
      "source": [
        "#MÉTODO BABILONIO O DE HERÓN\r\n",
        "\r\n",
        "print(\"Programa para calcular la raíz cuadrada de un número\")\r\n",
        "print(\"Ingrese el número del cual quiere conocer su raíz\")\r\n",
        "s = float(input()) \r\n",
        "sreal = np.sqrt(s)  #Raíz real \r\n",
        "print(\"Ingrese un valor para inciar la aproximación\")\r\n",
        "x = float(input())\r\n",
        "\r\n",
        "\r\n",
        "xf = (1/2)*(x+(s/x)) #Empieza el método (segundo renglón fórmula de arriba)\r\n",
        "i = 1\r\n",
        "\r\n",
        "#while abs(xf-np.sqrt(s)) > 0.01:\r\n",
        "while abs(xf-s) > 0.01: #Para cumplir la condición error menor a 0.01\r\n",
        "  print(\"Aproximación ciclo: \", \" \", xf) #en esa línea estoy teniendo problemas\r\n",
        "  xf = (1/2)*(xf+(s/xf))           #al final sólo me arroja el valor dentro del\r\n",
        "                     # while y el que está afuera (sólo dos), **ahorita se arregla**\r\n",
        "  i=i+1\r\n",
        "  \r\n",
        "  if i >= 100:\r\n",
        "    break   #adiós\r\n",
        " # while abs(xf-np.sqrt(s)) == 0.001:\r\n",
        "    #break                                      #<>\r\n",
        "\r\n",
        "print(\"Aproximación final: \", \" \", xf)\r\n",
        "print(\"Aproximación real:\", \" \", sreal )"
      ],
      "execution_count": 52,
      "outputs": [
        {
          "output_type": "stream",
          "text": [
            "Programa para calcular la raíz cuadrada de un número\n",
            "Ingrese el número del cual quiere conocer su raíz\n",
            "27\n",
            "Ingrese un valor para inciar la aproximación\n",
            "1\n",
            "Aproximación ciclo:    14.0\n",
            "Aproximación ciclo:    7.964285714285714\n",
            "Aproximación ciclo:    5.677210121716849\n",
            "Aproximación ciclo:    5.216533605084555\n",
            "Aproximación ciclo:    5.196192237708947\n",
            "Aproximación ciclo:    5.19615242285917\n",
            "Aproximación ciclo:    5.196152422706632\n",
            "Aproximación ciclo:    5.196152422706632\n",
            "Aproximación ciclo:    5.196152422706632\n",
            "Aproximación ciclo:    5.196152422706632\n",
            "Aproximación ciclo:    5.196152422706632\n",
            "Aproximación ciclo:    5.196152422706632\n",
            "Aproximación ciclo:    5.196152422706632\n",
            "Aproximación ciclo:    5.196152422706632\n",
            "Aproximación ciclo:    5.196152422706632\n",
            "Aproximación ciclo:    5.196152422706632\n",
            "Aproximación ciclo:    5.196152422706632\n",
            "Aproximación ciclo:    5.196152422706632\n",
            "Aproximación ciclo:    5.196152422706632\n",
            "Aproximación ciclo:    5.196152422706632\n",
            "Aproximación ciclo:    5.196152422706632\n",
            "Aproximación ciclo:    5.196152422706632\n",
            "Aproximación ciclo:    5.196152422706632\n",
            "Aproximación ciclo:    5.196152422706632\n",
            "Aproximación ciclo:    5.196152422706632\n",
            "Aproximación ciclo:    5.196152422706632\n",
            "Aproximación ciclo:    5.196152422706632\n",
            "Aproximación ciclo:    5.196152422706632\n",
            "Aproximación ciclo:    5.196152422706632\n",
            "Aproximación ciclo:    5.196152422706632\n",
            "Aproximación ciclo:    5.196152422706632\n",
            "Aproximación ciclo:    5.196152422706632\n",
            "Aproximación ciclo:    5.196152422706632\n",
            "Aproximación ciclo:    5.196152422706632\n",
            "Aproximación ciclo:    5.196152422706632\n",
            "Aproximación ciclo:    5.196152422706632\n",
            "Aproximación ciclo:    5.196152422706632\n",
            "Aproximación ciclo:    5.196152422706632\n",
            "Aproximación ciclo:    5.196152422706632\n",
            "Aproximación ciclo:    5.196152422706632\n",
            "Aproximación ciclo:    5.196152422706632\n",
            "Aproximación ciclo:    5.196152422706632\n",
            "Aproximación ciclo:    5.196152422706632\n",
            "Aproximación ciclo:    5.196152422706632\n",
            "Aproximación ciclo:    5.196152422706632\n",
            "Aproximación ciclo:    5.196152422706632\n",
            "Aproximación ciclo:    5.196152422706632\n",
            "Aproximación ciclo:    5.196152422706632\n",
            "Aproximación ciclo:    5.196152422706632\n",
            "Aproximación ciclo:    5.196152422706632\n",
            "Aproximación ciclo:    5.196152422706632\n",
            "Aproximación ciclo:    5.196152422706632\n",
            "Aproximación ciclo:    5.196152422706632\n",
            "Aproximación ciclo:    5.196152422706632\n",
            "Aproximación ciclo:    5.196152422706632\n",
            "Aproximación ciclo:    5.196152422706632\n",
            "Aproximación ciclo:    5.196152422706632\n",
            "Aproximación ciclo:    5.196152422706632\n",
            "Aproximación ciclo:    5.196152422706632\n",
            "Aproximación ciclo:    5.196152422706632\n",
            "Aproximación ciclo:    5.196152422706632\n",
            "Aproximación ciclo:    5.196152422706632\n",
            "Aproximación ciclo:    5.196152422706632\n",
            "Aproximación ciclo:    5.196152422706632\n",
            "Aproximación ciclo:    5.196152422706632\n",
            "Aproximación ciclo:    5.196152422706632\n",
            "Aproximación ciclo:    5.196152422706632\n",
            "Aproximación ciclo:    5.196152422706632\n",
            "Aproximación ciclo:    5.196152422706632\n",
            "Aproximación ciclo:    5.196152422706632\n",
            "Aproximación ciclo:    5.196152422706632\n",
            "Aproximación ciclo:    5.196152422706632\n",
            "Aproximación ciclo:    5.196152422706632\n",
            "Aproximación ciclo:    5.196152422706632\n",
            "Aproximación ciclo:    5.196152422706632\n",
            "Aproximación ciclo:    5.196152422706632\n",
            "Aproximación ciclo:    5.196152422706632\n",
            "Aproximación ciclo:    5.196152422706632\n",
            "Aproximación ciclo:    5.196152422706632\n",
            "Aproximación ciclo:    5.196152422706632\n",
            "Aproximación ciclo:    5.196152422706632\n",
            "Aproximación ciclo:    5.196152422706632\n",
            "Aproximación ciclo:    5.196152422706632\n",
            "Aproximación ciclo:    5.196152422706632\n",
            "Aproximación ciclo:    5.196152422706632\n",
            "Aproximación ciclo:    5.196152422706632\n",
            "Aproximación ciclo:    5.196152422706632\n",
            "Aproximación ciclo:    5.196152422706632\n",
            "Aproximación ciclo:    5.196152422706632\n",
            "Aproximación ciclo:    5.196152422706632\n",
            "Aproximación ciclo:    5.196152422706632\n",
            "Aproximación ciclo:    5.196152422706632\n",
            "Aproximación ciclo:    5.196152422706632\n",
            "Aproximación ciclo:    5.196152422706632\n",
            "Aproximación ciclo:    5.196152422706632\n",
            "Aproximación ciclo:    5.196152422706632\n",
            "Aproximación ciclo:    5.196152422706632\n",
            "Aproximación ciclo:    5.196152422706632\n",
            "Aproximación ciclo:    5.196152422706632\n",
            "Aproximación final:    5.196152422706632\n",
            "Aproximación real:   5.196152422706632\n"
          ],
          "name": "stdout"
        }
      ]
    },
    {
      "cell_type": "markdown",
      "metadata": {
        "id": "JkszyZrg8TZ6"
      },
      "source": [
        "# EJERCICIO 4\r\n",
        "\r\n",
        "\r\n",
        "---\r\n",
        " Reproduce la figura que aparece inmediatamente abajo en el artículo de Wikipedia sobre *Series de Taylor*, que muestra la aproximación de la función  $ln(1+x)$ alrededor de $x=0$.\r\n",
        "$$ln(1+x) = \\sum_{n=1}^\\infty (-1)^{n+1}\\frac{x^n}{n}= x - \\frac{x^2}{2}+      \\frac{x^3}{3} $$\r\n"
      ]
    },
    {
      "cell_type": "code",
      "metadata": {
        "colab": {
          "base_uri": "https://localhost:8080/",
          "height": 465
        },
        "id": "jd38jkC3E-VK",
        "outputId": "12dbb327-67c7-44fb-d8ca-483ffdf11189"
      },
      "source": [
        "#Series de Taylor\r\n",
        "\r\n",
        "print(\"Programa para aproximar la función ln(1+x) alrededor de x=0, con las series de Taylor\")\r\n",
        "print(\"Ingrese el grado del  1er polinomio a utilizar\")\r\n",
        "n = int(input())  #grado del pol\r\n",
        "x = np.linspace(-1.5,1.5,100) #100 puntos entre -1.5 y 1-5\r\n",
        "\r\n",
        "##########Ciclo para el 1ero##########\r\n",
        "T = 0.0  #El ayudante para el loop\r\n",
        "for i in range (1,n+1,1):\r\n",
        "  TS = T + ((-1)**(i+1))*(x**i)/i\r\n",
        "  T = TS #Guardar el valor para que sirva al realizar los ciclos\r\n",
        "\r\n",
        "##########Ciclo para el 2do##########\r\n",
        "print(\"Ingrese el grado del 2do polinomio a utilizar\")\r\n",
        "n2 = int(input())  #grado pol\r\n",
        "\r\n",
        "T2 = 0.0\r\n",
        "for i in range (1,n2+1,1):\r\n",
        "  TS2 = T2 + ((-1)**(i+1))*(x**i)/i\r\n",
        "  T2 = TS2 #Para los siguientes ciclos\r\n",
        "\r\n",
        "##########Ciclo para el 3ero##########\r\n",
        "print(\"Ingrese el grado del 3er polinomio a utilizar\")\r\n",
        "n3 = int(input())  #grado pol\r\n",
        "\r\n",
        "T3 = 0.0\r\n",
        "for i in range (1,n3+1,1):\r\n",
        "  TS3 = T3 + ((-1)**(i+1))*(x**i)/i\r\n",
        "  T3 = TS3  #Para los siguientes ciclos\r\n",
        "\r\n",
        "##########Ciclo para el 4to##########\r\n",
        "print(\"Ingrese el grado del 4to polinomio a utilizar\")\r\n",
        "n4 = int(input())  #grado pol\r\n",
        "\r\n",
        "T4 = 0.0\r\n",
        "for i in range (1,n4+1,1):\r\n",
        "  TS4 = T4 + ((-1)**(i+1))*(x**i)/i\r\n",
        "  T4 = TS4\r\n",
        "\r\n",
        "########## GRÁFICAS ##########\r\n",
        "#Creación\r\n",
        "plt.subplot(111)\r\n",
        "\r\n",
        "plt.xlabel(\"X\")\r\n",
        "\r\n",
        "plt.ylabel(\"Y\")\r\n",
        "\r\n",
        "plt.title(\"ln(1+x) y aproximaciones con Series de Taylor\")\r\n",
        "\r\n",
        "# Varias funciones\r\n",
        "plt.plot(x,TS,label=\"Pol.1\")\r\n",
        "plt.plot(x,TS2,label=\"Pol.2\")\r\n",
        "plt.plot(x,TS3,label=\"Pol.3\")\r\n",
        "plt.plot(x,TS4,label=\"Pol.4\")\r\n",
        "plt.plot(x,np.log(1+x),label=\"$ln(1+x)$\")\r\n",
        "\r\n",
        "# Agregar una malla\r\n",
        "\r\n",
        "plt.grid(True)\r\n",
        "\r\n",
        "# Fijar los límites en el eje Y.\r\n",
        "\r\n",
        "plt.ylim(-4, 2)\r\n",
        "\r\n",
        "# Ubicación de las etiquetas de las funciones\r\n",
        "\r\n",
        "plt.legend(bbox_to_anchor=(1,1), loc=\"upper left\")\r\n",
        "\r\n",
        "plt.show()\r\n",
        "\r\n",
        "#plt.savefig('plot.png')  # Si se desea guardar en un archivo la imagen de la gráfica"
      ],
      "execution_count": 55,
      "outputs": [
        {
          "output_type": "stream",
          "text": [
            "Programa para aproximar la función ln(1+x) alrededor de x=0, con las series de Taylor\n",
            "Ingrese el grado del  1er polinomio a utilizar\n",
            "4\n",
            "Ingrese el grado del 2do polinomio a utilizar\n",
            "7\n",
            "Ingrese el grado del 3er polinomio a utilizar\n",
            "11\n",
            "Ingrese el grado del 4to polinomio a utilizar\n",
            "16\n"
          ],
          "name": "stdout"
        },
        {
          "output_type": "stream",
          "text": [
            "/usr/local/lib/python3.6/dist-packages/ipykernel_launcher.py:56: RuntimeWarning: invalid value encountered in log\n"
          ],
          "name": "stderr"
        },
        {
          "output_type": "display_data",
          "data": {
            "image/png": "[encoded data removed]",
            "text/plain": [
              "<Figure size 432x288 with 1 Axes>"
            ]
          },
          "metadata": {
            "tags": [],
            "needs_background": "light"
          }
        }
      ]
    }
  ]
}