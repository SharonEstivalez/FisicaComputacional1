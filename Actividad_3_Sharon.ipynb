{
  "nbformat": 4,
  "nbformat_minor": 0,
  "metadata": {
    "colab": {
      "name": "Actividad 3_Sharon.ipynb",
      "provenance": [],
      "authorship_tag": "ABX9TyPBCHIzl2rFR2vZfaLfazmD",
      "include_colab_link": true
    },
    "kernelspec": {
      "name": "python3",
      "display_name": "Python 3"
    }
  },
  "cells": [
    {
      "cell_type": "markdown",
      "metadata": {
        "id": "view-in-github",
        "colab_type": "text"
      },
      "source": [
        "<a href=\"https://colab.research.google.com/github/SharonEstivalez/FisicaComputacional1/blob/master/Actividad_3_Sharon.ipynb\" target=\"_parent\"><img src=\"https://colab.research.google.com/assets/colab-badge.svg\" alt=\"Open In Colab\"/></a>"
      ]
    },
    {
      "cell_type": "markdown",
      "metadata": {
        "id": "pGN6-VtSz0w7"
      },
      "source": [
        "# ***$$ACTIVIDAD  \\space 3$$***\r\n",
        "\r\n",
        "\r\n",
        "\r\n",
        "Pacheco Rodriguez Sharon Estivalez\r\n",
        "\r\n",
        " 27/ 01/ 21\r\n",
        " \r\n"
      ]
    },
    {
      "cell_type": "code",
      "metadata": {
        "id": "DY_PdaxByPH4"
      },
      "source": [
        "#Importar librerías\r\n",
        "import numpy as np\r\n",
        "import pandas as pd\r\n",
        "import matplotlib.pyplot as plt"
      ],
      "execution_count": 30,
      "outputs": []
    },
    {
      "cell_type": "code",
      "metadata": {
        "id": "1tCJ2mlHpUON"
      },
      "source": [
        "#Importar el archivo \r\n",
        "#df = pd.read_csv(\"https://raw.githubusercontent.com/SharonEstivalez/FisicaComputacional1/master/Actividad%203/10090.csv\")\r\n",
        "#df = df.drop(range(0,16))\r\n",
        "\r\n",
        "#Tomar url en raw\r\n",
        "url = 'https://raw.githubusercontent.com/SharonEstivalez/FisicaComputacional1/master/Actividad%203/10090.txt'\r\n",
        "\r\n",
        "#Nombres para las columnas\r\n",
        "col =  ['Fecha', 'Precip', 'Evap', 'Tmax', 'Tmin'] \r\n",
        "\r\n",
        "# encoding='cp1251' Windows (Europa Occidental)\r\n",
        "# sep='\\s+' el separador de datos es de uno o más espacios\r\n",
        "#header=None no hay encabezado\r\n",
        "#skiprows=19 Se brincará los primeros 19 renglones \r\n",
        "#skipfooter=1 Se brincará el último renglón\r\n",
        "#engine='python' Se procesan los datos utilizando Python \r\n",
        "df_act = pd.read_csv(url, names=col, encoding='cp1251', sep='\\s+', header=None, skiprows=19, skipfooter=1, engine='python')\r\n",
        "\r\n",
        "# Elimina los renglones que tengan algún número nulo.  \r\n",
        "#df = df.dropna()\r\n",
        "\r\n"
      ],
      "execution_count": 31,
      "outputs": []
    },
    {
      "cell_type": "code",
      "metadata": {
        "colab": {
          "base_uri": "https://localhost:8080/",
          "height": 204
        },
        "id": "wRNSP0tBAUa5",
        "outputId": "280fed91-dc3d-4e2b-b28c-252112dd896d"
      },
      "source": [
        "df_act.head()\r\n",
        "#df_act.tail()\r\n"
      ],
      "execution_count": 32,
      "outputs": [
        {
          "output_type": "execute_result",
          "data": {
            "text/html": [
              "<div>\n",
              "<style scoped>\n",
              "    .dataframe tbody tr th:only-of-type {\n",
              "        vertical-align: middle;\n",
              "    }\n",
              "\n",
              "    .dataframe tbody tr th {\n",
              "        vertical-align: top;\n",
              "    }\n",
              "\n",
              "    .dataframe thead th {\n",
              "        text-align: right;\n",
              "    }\n",
              "</style>\n",
              "<table border=\"1\" class=\"dataframe\">\n",
              "  <thead>\n",
              "    <tr style=\"text-align: right;\">\n",
              "      <th></th>\n",
              "      <th>Fecha</th>\n",
              "      <th>Precip</th>\n",
              "      <th>Evap</th>\n",
              "      <th>Tmax</th>\n",
              "      <th>Tmin</th>\n",
              "    </tr>\n",
              "  </thead>\n",
              "  <tbody>\n",
              "    <tr>\n",
              "      <th>0</th>\n",
              "      <td>01/08/1963</td>\n",
              "      <td>0</td>\n",
              "      <td>3.6</td>\n",
              "      <td>28</td>\n",
              "      <td>10</td>\n",
              "    </tr>\n",
              "    <tr>\n",
              "      <th>1</th>\n",
              "      <td>02/08/1963</td>\n",
              "      <td>0</td>\n",
              "      <td>4.8</td>\n",
              "      <td>21</td>\n",
              "      <td>11</td>\n",
              "    </tr>\n",
              "    <tr>\n",
              "      <th>2</th>\n",
              "      <td>03/08/1963</td>\n",
              "      <td>0</td>\n",
              "      <td>4.5</td>\n",
              "      <td>25</td>\n",
              "      <td>10</td>\n",
              "    </tr>\n",
              "    <tr>\n",
              "      <th>3</th>\n",
              "      <td>04/08/1963</td>\n",
              "      <td>0</td>\n",
              "      <td>4</td>\n",
              "      <td>18</td>\n",
              "      <td>11</td>\n",
              "    </tr>\n",
              "    <tr>\n",
              "      <th>4</th>\n",
              "      <td>05/08/1963</td>\n",
              "      <td>9</td>\n",
              "      <td>2.5</td>\n",
              "      <td>24.5</td>\n",
              "      <td>12</td>\n",
              "    </tr>\n",
              "  </tbody>\n",
              "</table>\n",
              "</div>"
            ],
            "text/plain": [
              "        Fecha Precip Evap  Tmax Tmin\n",
              "0  01/08/1963      0  3.6    28   10\n",
              "1  02/08/1963      0  4.8    21   11\n",
              "2  03/08/1963      0  4.5    25   10\n",
              "3  04/08/1963      0    4    18   11\n",
              "4  05/08/1963      9  2.5  24.5   12"
            ]
          },
          "metadata": {
            "tags": []
          },
          "execution_count": 32
        }
      ]
    },
    {
      "cell_type": "code",
      "metadata": {
        "id": "35M4ZSK00CNm",
        "colab": {
          "base_uri": "https://localhost:8080/"
        },
        "outputId": "eda8989a-2bac-49c5-f4d5-b60e06f8f5e0"
      },
      "source": [
        "# Revisamos el encabezado y el final del dataframe\r\n",
        "print(df_act.head(10))  # Mostrar y enlistar los primeros 5 renglones por default. ## Si se desea imprimir n renglones: df.head(n)\r\n",
        "print(df_act.tail(10))  #Igual pero con los últimos\r\n"
      ],
      "execution_count": 33,
      "outputs": [
        {
          "output_type": "stream",
          "text": [
            "        Fecha Precip Evap  Tmax Tmin\n",
            "0  01/08/1963      0  3.6    28   10\n",
            "1  02/08/1963      0  4.8    21   11\n",
            "2  03/08/1963      0  4.5    25   10\n",
            "3  04/08/1963      0    4    18   11\n",
            "4  05/08/1963      9  2.5  24.5   12\n",
            "5  06/08/1963      0  3.3    26   12\n",
            "6  07/08/1963      0  2.8    20   12\n",
            "7  08/08/1963      0  2.8    20   12\n",
            "8  09/08/1963      7  3.5    26   13\n",
            "9  10/08/1963   13.5  4.4    26   12\n",
            "            Fecha Precip  Evap Tmax Tmin\n",
            "19582  22/12/2018      0  Nulo   21   -4\n",
            "19583  23/12/2018      0  Nulo   20   -3\n",
            "19584  24/12/2018      0  Nulo   21   -4\n",
            "19585  25/12/2018      0  Nulo   21    2\n",
            "19586  26/12/2018      0  Nulo   23    2\n",
            "19587  27/12/2018      0  Nulo   22    2\n",
            "19588  28/12/2018      0  Nulo   22   -3\n",
            "19589  29/12/2018      0  Nulo   20    1\n",
            "19590  30/12/2018      0  Nulo   20   -1\n",
            "19591  31/12/2018      0  Nulo   22   -3\n"
          ],
          "name": "stdout"
        }
      ]
    },
    {
      "cell_type": "code",
      "metadata": {
        "colab": {
          "base_uri": "https://localhost:8080/"
        },
        "id": "3LMwLY82RXup",
        "outputId": "0b7a288e-6805-45dd-d2da-3afb682b3191"
      },
      "source": [
        "# Investigamos su tamaño con la función shape (renglones, columnas)\r\n",
        "df_act.shape"
      ],
      "execution_count": 34,
      "outputs": [
        {
          "output_type": "execute_result",
          "data": {
            "text/plain": [
              "(19592, 5)"
            ]
          },
          "metadata": {
            "tags": []
          },
          "execution_count": 34
        }
      ]
    },
    {
      "cell_type": "code",
      "metadata": {
        "colab": {
          "base_uri": "https://localhost:8080/"
        },
        "id": "xou6LxS8dMfU",
        "outputId": "7957bafd-b7d8-4a79-81f7-bbc39b542687"
      },
      "source": [
        "#Información del DataFrame: número de renglones, columnas, nombres, tipo de datos, número de entradas no nulas, y otros\r\n",
        "df_act.info()"
      ],
      "execution_count": 35,
      "outputs": [
        {
          "output_type": "stream",
          "text": [
            "<class 'pandas.core.frame.DataFrame'>\n",
            "RangeIndex: 19592 entries, 0 to 19591\n",
            "Data columns (total 5 columns):\n",
            " #   Column  Non-Null Count  Dtype \n",
            "---  ------  --------------  ----- \n",
            " 0   Fecha   19592 non-null  object\n",
            " 1   Precip  19592 non-null  object\n",
            " 2   Evap    19592 non-null  object\n",
            " 3   Tmax    19592 non-null  object\n",
            " 4   Tmin    19592 non-null  object\n",
            "dtypes: object(5)\n",
            "memory usage: 765.4+ KB\n"
          ],
          "name": "stdout"
        }
      ]
    },
    {
      "cell_type": "code",
      "metadata": {
        "colab": {
          "base_uri": "https://localhost:8080/",
          "height": 204
        },
        "id": "atXl5UC1DIs9",
        "outputId": "785b7505-2555-4a54-8e6f-d97b78f21bce"
      },
      "source": [
        "#Hacer una copia del DataFrame\r\n",
        "df_sp0 = df_act.copy()\r\n",
        "\r\n",
        "#df_sp0.head() #Mis valores nulos están en los datos del final\r\n",
        "df_sp0.tail()\r\n"
      ],
      "execution_count": 36,
      "outputs": [
        {
          "output_type": "execute_result",
          "data": {
            "text/html": [
              "<div>\n",
              "<style scoped>\n",
              "    .dataframe tbody tr th:only-of-type {\n",
              "        vertical-align: middle;\n",
              "    }\n",
              "\n",
              "    .dataframe tbody tr th {\n",
              "        vertical-align: top;\n",
              "    }\n",
              "\n",
              "    .dataframe thead th {\n",
              "        text-align: right;\n",
              "    }\n",
              "</style>\n",
              "<table border=\"1\" class=\"dataframe\">\n",
              "  <thead>\n",
              "    <tr style=\"text-align: right;\">\n",
              "      <th></th>\n",
              "      <th>Fecha</th>\n",
              "      <th>Precip</th>\n",
              "      <th>Evap</th>\n",
              "      <th>Tmax</th>\n",
              "      <th>Tmin</th>\n",
              "    </tr>\n",
              "  </thead>\n",
              "  <tbody>\n",
              "    <tr>\n",
              "      <th>19587</th>\n",
              "      <td>27/12/2018</td>\n",
              "      <td>0</td>\n",
              "      <td>Nulo</td>\n",
              "      <td>22</td>\n",
              "      <td>2</td>\n",
              "    </tr>\n",
              "    <tr>\n",
              "      <th>19588</th>\n",
              "      <td>28/12/2018</td>\n",
              "      <td>0</td>\n",
              "      <td>Nulo</td>\n",
              "      <td>22</td>\n",
              "      <td>-3</td>\n",
              "    </tr>\n",
              "    <tr>\n",
              "      <th>19589</th>\n",
              "      <td>29/12/2018</td>\n",
              "      <td>0</td>\n",
              "      <td>Nulo</td>\n",
              "      <td>20</td>\n",
              "      <td>1</td>\n",
              "    </tr>\n",
              "    <tr>\n",
              "      <th>19590</th>\n",
              "      <td>30/12/2018</td>\n",
              "      <td>0</td>\n",
              "      <td>Nulo</td>\n",
              "      <td>20</td>\n",
              "      <td>-1</td>\n",
              "    </tr>\n",
              "    <tr>\n",
              "      <th>19591</th>\n",
              "      <td>31/12/2018</td>\n",
              "      <td>0</td>\n",
              "      <td>Nulo</td>\n",
              "      <td>22</td>\n",
              "      <td>-3</td>\n",
              "    </tr>\n",
              "  </tbody>\n",
              "</table>\n",
              "</div>"
            ],
            "text/plain": [
              "            Fecha Precip  Evap Tmax Tmin\n",
              "19587  27/12/2018      0  Nulo   22    2\n",
              "19588  28/12/2018      0  Nulo   22   -3\n",
              "19589  29/12/2018      0  Nulo   20    1\n",
              "19590  30/12/2018      0  Nulo   20   -1\n",
              "19591  31/12/2018      0  Nulo   22   -3"
            ]
          },
          "metadata": {
            "tags": []
          },
          "execution_count": 36
        }
      ]
    },
    {
      "cell_type": "code",
      "metadata": {
        "colab": {
          "base_uri": "https://localhost:8080/",
          "height": 204
        },
        "id": "zF4JVf1ORAJ7",
        "outputId": "26ed0a7d-ea63-42c4-d8b0-c1fc63ca8f5d"
      },
      "source": [
        "#Reemplazar \"Nulo\" por espacio en blanco\r\n",
        "str_Nulo = 'Nulo'\r\n",
        "df_sp1 = df_sp0.replace(to_replace=str_Nulo, value='', regex=True)\r\n",
        "df_sp1.tail()\r\n"
      ],
      "execution_count": 37,
      "outputs": [
        {
          "output_type": "execute_result",
          "data": {
            "text/html": [
              "<div>\n",
              "<style scoped>\n",
              "    .dataframe tbody tr th:only-of-type {\n",
              "        vertical-align: middle;\n",
              "    }\n",
              "\n",
              "    .dataframe tbody tr th {\n",
              "        vertical-align: top;\n",
              "    }\n",
              "\n",
              "    .dataframe thead th {\n",
              "        text-align: right;\n",
              "    }\n",
              "</style>\n",
              "<table border=\"1\" class=\"dataframe\">\n",
              "  <thead>\n",
              "    <tr style=\"text-align: right;\">\n",
              "      <th></th>\n",
              "      <th>Fecha</th>\n",
              "      <th>Precip</th>\n",
              "      <th>Evap</th>\n",
              "      <th>Tmax</th>\n",
              "      <th>Tmin</th>\n",
              "    </tr>\n",
              "  </thead>\n",
              "  <tbody>\n",
              "    <tr>\n",
              "      <th>19587</th>\n",
              "      <td>27/12/2018</td>\n",
              "      <td>0</td>\n",
              "      <td></td>\n",
              "      <td>22</td>\n",
              "      <td>2</td>\n",
              "    </tr>\n",
              "    <tr>\n",
              "      <th>19588</th>\n",
              "      <td>28/12/2018</td>\n",
              "      <td>0</td>\n",
              "      <td></td>\n",
              "      <td>22</td>\n",
              "      <td>-3</td>\n",
              "    </tr>\n",
              "    <tr>\n",
              "      <th>19589</th>\n",
              "      <td>29/12/2018</td>\n",
              "      <td>0</td>\n",
              "      <td></td>\n",
              "      <td>20</td>\n",
              "      <td>1</td>\n",
              "    </tr>\n",
              "    <tr>\n",
              "      <th>19590</th>\n",
              "      <td>30/12/2018</td>\n",
              "      <td>0</td>\n",
              "      <td></td>\n",
              "      <td>20</td>\n",
              "      <td>-1</td>\n",
              "    </tr>\n",
              "    <tr>\n",
              "      <th>19591</th>\n",
              "      <td>31/12/2018</td>\n",
              "      <td>0</td>\n",
              "      <td></td>\n",
              "      <td>22</td>\n",
              "      <td>-3</td>\n",
              "    </tr>\n",
              "  </tbody>\n",
              "</table>\n",
              "</div>"
            ],
            "text/plain": [
              "            Fecha Precip Evap Tmax Tmin\n",
              "19587  27/12/2018      0        22    2\n",
              "19588  28/12/2018      0        22   -3\n",
              "19589  29/12/2018      0        20    1\n",
              "19590  30/12/2018      0        20   -1\n",
              "19591  31/12/2018      0        22   -3"
            ]
          },
          "metadata": {
            "tags": []
          },
          "execution_count": 37
        }
      ]
    },
    {
      "cell_type": "code",
      "metadata": {
        "colab": {
          "base_uri": "https://localhost:8080/"
        },
        "id": "tFvtUUbFTBaK",
        "outputId": "03a5539a-a5eb-477a-8d0e-d2a96d4a318b"
      },
      "source": [
        "# Mostrar información actualizada del DataFrame\r\n",
        "df_sp1.info()\r\n",
        "print(df_sp1.tail())\r\n"
      ],
      "execution_count": 38,
      "outputs": [
        {
          "output_type": "stream",
          "text": [
            "<class 'pandas.core.frame.DataFrame'>\n",
            "RangeIndex: 19592 entries, 0 to 19591\n",
            "Data columns (total 5 columns):\n",
            " #   Column  Non-Null Count  Dtype \n",
            "---  ------  --------------  ----- \n",
            " 0   Fecha   19592 non-null  object\n",
            " 1   Precip  19592 non-null  object\n",
            " 2   Evap    19592 non-null  object\n",
            " 3   Tmax    19592 non-null  object\n",
            " 4   Tmin    19592 non-null  object\n",
            "dtypes: object(5)\n",
            "memory usage: 765.4+ KB\n",
            "            Fecha Precip Evap Tmax Tmin\n",
            "19587  27/12/2018      0        22    2\n",
            "19588  28/12/2018      0        22   -3\n",
            "19589  29/12/2018      0        20    1\n",
            "19590  30/12/2018      0        20   -1\n",
            "19591  31/12/2018      0        22   -3\n"
          ],
          "name": "stdout"
        }
      ]
    },
    {
      "cell_type": "markdown",
      "metadata": {
        "id": "0XyqxTMAV85r"
      },
      "source": [
        "# *convertir a número flotante o numérico los datos de Precipitación, Evaporación, Temperatura Máxima y Temperatura mínima utilizando la función: df.to_numeric()*"
      ]
    },
    {
      "cell_type": "code",
      "metadata": {
        "colab": {
          "base_uri": "https://localhost:8080/"
        },
        "id": "KMck2BZfStND",
        "outputId": "2009fca7-a027-4cfc-fb62-0b08508b7b0d"
      },
      "source": [
        "\r\n",
        "#Convertir las valores de Precip, Evap, Tmax y Tmin en flotantes\r\n",
        "cols_list = ['Precip', 'Evap', 'Tmax', 'Tmin']\r\n",
        "for cols in cols_list:\r\n",
        "  df_sp1[cols] = pd.to_numeric(df_sp1[cols], errors='coerce')\r\n",
        "\r\n",
        "df_sp1.info()\r\n"
      ],
      "execution_count": 39,
      "outputs": [
        {
          "output_type": "stream",
          "text": [
            "<class 'pandas.core.frame.DataFrame'>\n",
            "RangeIndex: 19592 entries, 0 to 19591\n",
            "Data columns (total 5 columns):\n",
            " #   Column  Non-Null Count  Dtype  \n",
            "---  ------  --------------  -----  \n",
            " 0   Fecha   19592 non-null  object \n",
            " 1   Precip  19558 non-null  float64\n",
            " 2   Evap    17688 non-null  float64\n",
            " 3   Tmax    19484 non-null  float64\n",
            " 4   Tmin    19487 non-null  float64\n",
            "dtypes: float64(4), object(1)\n",
            "memory usage: 765.4+ KB\n"
          ],
          "name": "stdout"
        }
      ]
    },
    {
      "cell_type": "code",
      "metadata": {
        "colab": {
          "base_uri": "https://localhost:8080/"
        },
        "id": "KqNAbb5zZ14t",
        "outputId": "d9a056a9-23b6-41e6-b2a6-b177287b2ee6"
      },
      "source": [
        "#Hay valores faltantes, se nota en los que tiene la fecha; así que se suman los nulos. \r\n",
        "df_sp1.isnull().sum()   # Regresa la suma de número faltantes de cada variable. \r\n"
      ],
      "execution_count": null,
      "outputs": [
        {
          "output_type": "execute_result",
          "data": {
            "text/plain": [
              "Fecha        0\n",
              "Precip      34\n",
              "Evap      1904\n",
              "Tmax       108\n",
              "Tmin       105\n",
              "dtype: int64"
            ]
          },
          "metadata": {
            "tags": []
          },
          "execution_count": 27
        }
      ]
    },
    {
      "cell_type": "code",
      "metadata": {
        "colab": {
          "base_uri": "https://localhost:8080/"
        },
        "id": "I_d3xkmAa7Od",
        "outputId": "39054d47-179e-433b-99d9-a48ad13edf55"
      },
      "source": [
        "#Mostrar encabezado y final del DataFrame\r\n",
        "print(df_sp1.head())\r\n",
        "print(df_sp1.tail())"
      ],
      "execution_count": 40,
      "outputs": [
        {
          "output_type": "stream",
          "text": [
            "        Fecha  Precip  Evap  Tmax  Tmin\n",
            "0  01/08/1963     0.0   3.6  28.0  10.0\n",
            "1  02/08/1963     0.0   4.8  21.0  11.0\n",
            "2  03/08/1963     0.0   4.5  25.0  10.0\n",
            "3  04/08/1963     0.0   4.0  18.0  11.0\n",
            "4  05/08/1963     9.0   2.5  24.5  12.0\n",
            "            Fecha  Precip  Evap  Tmax  Tmin\n",
            "19587  27/12/2018     0.0   NaN  22.0   2.0\n",
            "19588  28/12/2018     0.0   NaN  22.0  -3.0\n",
            "19589  29/12/2018     0.0   NaN  20.0   1.0\n",
            "19590  30/12/2018     0.0   NaN  20.0  -1.0\n",
            "19591  31/12/2018     0.0   NaN  22.0  -3.0\n"
          ],
          "name": "stdout"
        }
      ]
    },
    {
      "cell_type": "code",
      "metadata": {
        "id": "zo6Aknb2bfPD",
        "colab": {
          "base_uri": "https://localhost:8080/",
          "height": 297
        },
        "outputId": "a2b2f5a8-790c-482a-c1ff-0ee65620f382"
      },
      "source": [
        "# Estadística básica de las variables numéricas a 2 cifras significativas\r\n",
        "df_sp1.describe().round(2)\r\n"
      ],
      "execution_count": 42,
      "outputs": [
        {
          "output_type": "execute_result",
          "data": {
            "text/html": [
              "<div>\n",
              "<style scoped>\n",
              "    .dataframe tbody tr th:only-of-type {\n",
              "        vertical-align: middle;\n",
              "    }\n",
              "\n",
              "    .dataframe tbody tr th {\n",
              "        vertical-align: top;\n",
              "    }\n",
              "\n",
              "    .dataframe thead th {\n",
              "        text-align: right;\n",
              "    }\n",
              "</style>\n",
              "<table border=\"1\" class=\"dataframe\">\n",
              "  <thead>\n",
              "    <tr style=\"text-align: right;\">\n",
              "      <th></th>\n",
              "      <th>Precip</th>\n",
              "      <th>Evap</th>\n",
              "      <th>Tmax</th>\n",
              "      <th>Tmin</th>\n",
              "    </tr>\n",
              "  </thead>\n",
              "  <tbody>\n",
              "    <tr>\n",
              "      <th>count</th>\n",
              "      <td>19558.00</td>\n",
              "      <td>17688.00</td>\n",
              "      <td>19484.00</td>\n",
              "      <td>19487.00</td>\n",
              "    </tr>\n",
              "    <tr>\n",
              "      <th>mean</th>\n",
              "      <td>1.55</td>\n",
              "      <td>5.78</td>\n",
              "      <td>25.11</td>\n",
              "      <td>6.95</td>\n",
              "    </tr>\n",
              "    <tr>\n",
              "      <th>std</th>\n",
              "      <td>5.31</td>\n",
              "      <td>2.66</td>\n",
              "      <td>4.92</td>\n",
              "      <td>5.50</td>\n",
              "    </tr>\n",
              "    <tr>\n",
              "      <th>min</th>\n",
              "      <td>0.00</td>\n",
              "      <td>0.10</td>\n",
              "      <td>-8.00</td>\n",
              "      <td>-13.00</td>\n",
              "    </tr>\n",
              "    <tr>\n",
              "      <th>25%</th>\n",
              "      <td>0.00</td>\n",
              "      <td>4.00</td>\n",
              "      <td>22.00</td>\n",
              "      <td>3.00</td>\n",
              "    </tr>\n",
              "    <tr>\n",
              "      <th>50%</th>\n",
              "      <td>0.00</td>\n",
              "      <td>5.50</td>\n",
              "      <td>25.00</td>\n",
              "      <td>8.00</td>\n",
              "    </tr>\n",
              "    <tr>\n",
              "      <th>75%</th>\n",
              "      <td>0.00</td>\n",
              "      <td>7.40</td>\n",
              "      <td>28.50</td>\n",
              "      <td>12.00</td>\n",
              "    </tr>\n",
              "    <tr>\n",
              "      <th>max</th>\n",
              "      <td>70.00</td>\n",
              "      <td>18.00</td>\n",
              "      <td>45.00</td>\n",
              "      <td>20.00</td>\n",
              "    </tr>\n",
              "  </tbody>\n",
              "</table>\n",
              "</div>"
            ],
            "text/plain": [
              "         Precip      Evap      Tmax      Tmin\n",
              "count  19558.00  17688.00  19484.00  19487.00\n",
              "mean       1.55      5.78     25.11      6.95\n",
              "std        5.31      2.66      4.92      5.50\n",
              "min        0.00      0.10     -8.00    -13.00\n",
              "25%        0.00      4.00     22.00      3.00\n",
              "50%        0.00      5.50     25.00      8.00\n",
              "75%        0.00      7.40     28.50     12.00\n",
              "max       70.00     18.00     45.00     20.00"
            ]
          },
          "metadata": {
            "tags": []
          },
          "execution_count": 42
        }
      ]
    },
    {
      "cell_type": "markdown",
      "metadata": {
        "id": "2JbrePfJfCAQ"
      },
      "source": [
        "**Interpretación de los resultados anteriores**\r\n",
        "\r\n",
        "Se puede notar que las precipitaciones varían drásticamente en el mínimo y máximo, de 0mm a 7mm, con un promedio de 1.55mm. \r\n",
        "La evaporación tiende a 5.78mm en promedio, variando sus mínimos y máximos de \r\n",
        "0.10mm a 18mm.\r\n",
        "En las temperaturas máximas registradas se encuentra un promedio de 25.11°C, con mínima de -8°C y máxima de 45°C.\r\n",
        "En las temperaturas mínimas registradas se encuentra un promedio de 6.95°C, una mínima de -13°C y una máxima de 20°C.\r\n",
        "Con esto se puede notar que las temperaturas cambian drásticamente tanto en mínimas como máximas, al igual que la variación de las precipitaciones. "
      ]
    },
    {
      "cell_type": "markdown",
      "metadata": {
        "id": "H5_YmPLafpLY"
      },
      "source": [
        "# *Fecha*"
      ]
    },
    {
      "cell_type": "code",
      "metadata": {
        "colab": {
          "base_uri": "https://localhost:8080/"
        },
        "id": "-a02xdbFfwiU",
        "outputId": "36c3da4b-2068-4761-d2a6-ba39ab581e16"
      },
      "source": [
        "#Hacer copia del DataFrame anterior para trabajar con ella\r\n",
        "\r\n",
        "df_sp2 = df_sp1.copy()\r\n",
        "\r\n",
        "df_sp2['Fecha'].head()"
      ],
      "execution_count": 43,
      "outputs": [
        {
          "output_type": "execute_result",
          "data": {
            "text/plain": [
              "0    01/08/1963\n",
              "1    02/08/1963\n",
              "2    03/08/1963\n",
              "3    04/08/1963\n",
              "4    05/08/1963\n",
              "Name: Fecha, dtype: object"
            ]
          },
          "metadata": {
            "tags": []
          },
          "execution_count": 43
        }
      ]
    },
    {
      "cell_type": "code",
      "metadata": {
        "colab": {
          "base_uri": "https://localhost:8080/"
        },
        "id": "GGDloBmSrGEU",
        "outputId": "dcc6d428-0074-490b-8109-57306e6dee43"
      },
      "source": [
        "\r\n",
        "\r\n",
        "#Tomar \"Fecha\" y convertirlo al formato fecha que entiende python\r\n",
        "df_sp2['Fecha'] = pd.to_datetime(df_sp2['Fecha'], dayfirst=True).copy()\r\n",
        "print(df_sp2.head())\r\n"
      ],
      "execution_count": 49,
      "outputs": [
        {
          "output_type": "stream",
          "text": [
            "       Fecha  Precip  Evap  Tmax  Tmin\n",
            "0 1963-08-01     0.0   3.6  28.0  10.0\n",
            "1 1963-08-02     0.0   4.8  21.0  11.0\n",
            "2 1963-08-03     0.0   4.5  25.0  10.0\n",
            "3 1963-08-04     0.0   4.0  18.0  11.0\n",
            "4 1963-08-05     9.0   2.5  24.5  12.0\n"
          ],
          "name": "stdout"
        }
      ]
    },
    {
      "cell_type": "code",
      "metadata": {
        "colab": {
          "base_uri": "https://localhost:8080/"
        },
        "id": "Hu9Buc1ku66M",
        "outputId": "122c2312-8eea-411c-dacb-2bef74e52f7e"
      },
      "source": [
        "#Confirmar que las variables sean del tipo que queremos\r\n",
        "\r\n",
        "df_sp2.dtypes"
      ],
      "execution_count": 51,
      "outputs": [
        {
          "output_type": "execute_result",
          "data": {
            "text/plain": [
              "Fecha     datetime64[ns]\n",
              "Precip           float64\n",
              "Evap             float64\n",
              "Tmax             float64\n",
              "Tmin             float64\n",
              "dtype: object"
            ]
          },
          "metadata": {
            "tags": []
          },
          "execution_count": 51
        }
      ]
    },
    {
      "cell_type": "code",
      "metadata": {
        "id": "yvn8nSnbvs87"
      },
      "source": [
        "#Añadir dos columnas, año y fecha\r\n",
        "\r\n",
        "df_sp2['Año'] = df_sp2['Fecha'].dt.year\r\n",
        "df_sp2['Mes'] = df_sp2['Fecha'].dt.month\r\n"
      ],
      "execution_count": 52,
      "outputs": []
    },
    {
      "cell_type": "code",
      "metadata": {
        "colab": {
          "base_uri": "https://localhost:8080/"
        },
        "id": "K69qQVFCwdft",
        "outputId": "f9003a59-0bde-4c33-d979-5fb902d99bc3"
      },
      "source": [
        "#Verificar que se añadió el cambio anterior, que ya están las columnas nuevas\r\n",
        "print(df_sp2.head())\r\n",
        "print(df_sp2.tail())\r\n"
      ],
      "execution_count": 55,
      "outputs": [
        {
          "output_type": "stream",
          "text": [
            "       Fecha  Precip  Evap  Tmax  Tmin   Año  Mes\n",
            "0 1963-08-01     0.0   3.6  28.0  10.0  1963    8\n",
            "1 1963-08-02     0.0   4.8  21.0  11.0  1963    8\n",
            "2 1963-08-03     0.0   4.5  25.0  10.0  1963    8\n",
            "3 1963-08-04     0.0   4.0  18.0  11.0  1963    8\n",
            "4 1963-08-05     9.0   2.5  24.5  12.0  1963    8\n",
            "           Fecha  Precip  Evap  Tmax  Tmin   Año  Mes\n",
            "19587 2018-12-27     0.0   NaN  22.0   2.0  2018   12\n",
            "19588 2018-12-28     0.0   NaN  22.0  -3.0  2018   12\n",
            "19589 2018-12-29     0.0   NaN  20.0   1.0  2018   12\n",
            "19590 2018-12-30     0.0   NaN  20.0  -1.0  2018   12\n",
            "19591 2018-12-31     0.0   NaN  22.0  -3.0  2018   12\n"
          ],
          "name": "stdout"
        }
      ]
    },
    {
      "cell_type": "code",
      "metadata": {
        "colab": {
          "base_uri": "https://localhost:8080/"
        },
        "id": "FTw9_tHLw9IL",
        "outputId": "5704b1ba-86cd-4568-a07b-e954133b618c"
      },
      "source": [
        "# Ver que las nuevas columnas, año y mes, son variables enteras \r\n",
        "df_sp2.info()"
      ],
      "execution_count": 57,
      "outputs": [
        {
          "output_type": "stream",
          "text": [
            "<class 'pandas.core.frame.DataFrame'>\n",
            "RangeIndex: 19592 entries, 0 to 19591\n",
            "Data columns (total 7 columns):\n",
            " #   Column  Non-Null Count  Dtype         \n",
            "---  ------  --------------  -----         \n",
            " 0   Fecha   19592 non-null  datetime64[ns]\n",
            " 1   Precip  19558 non-null  float64       \n",
            " 2   Evap    17688 non-null  float64       \n",
            " 3   Tmax    19484 non-null  float64       \n",
            " 4   Tmin    19487 non-null  float64       \n",
            " 5   Año     19592 non-null  int64         \n",
            " 6   Mes     19592 non-null  int64         \n",
            "dtypes: datetime64[ns](1), float64(4), int64(2)\n",
            "memory usage: 1.0 MB\n"
          ],
          "name": "stdout"
        }
      ]
    }
  ]
}